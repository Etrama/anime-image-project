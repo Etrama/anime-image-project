{
 "cells": [
  {
   "cell_type": "code",
   "execution_count": 2,
   "metadata": {},
   "outputs": [],
   "source": [
    "import os"
   ]
  },
  {
   "cell_type": "code",
   "execution_count": 14,
   "metadata": {},
   "outputs": [],
   "source": [
    "def remove_apostrophes(directory):\n",
    "    for root, dirs, files in os.walk(directory, topdown=False):\n",
    "        for name in files:\n",
    "            new_name = name.replace(\"'\", \"\")  # Remove apostrophes from file name\n",
    "            if name != new_name:\n",
    "                os.rename(os.path.join(root, name), os.path.join(root, new_name))\n",
    "        for name in dirs:\n",
    "            new_name = name.replace(\"'\", \"\")  # Remove apostrophes from folder name\n",
    "            if name != new_name:\n",
    "                os.rename(os.path.join(root, name), os.path.join(root, new_name))\n",
    "\n",
    "# Usage example\n",
    "directory_path = '/path/to/your/directory'  # Specify the directory path\n",
    "remove_apostrophes(directory_path)"
   ]
  },
  {
   "cell_type": "code",
   "execution_count": 15,
   "metadata": {},
   "outputs": [],
   "source": [
    "remove_apostrophes(\"./data/\")"
   ]
  },
  {
   "cell_type": "code",
   "execution_count": null,
   "metadata": {},
   "outputs": [],
   "source": []
  }
 ],
 "metadata": {
  "kernelspec": {
   "display_name": "anime_scraper",
   "language": "python",
   "name": "python3"
  },
  "language_info": {
   "codemirror_mode": {
    "name": "ipython",
    "version": 3
   },
   "file_extension": ".py",
   "mimetype": "text/x-python",
   "name": "python",
   "nbconvert_exporter": "python",
   "pygments_lexer": "ipython3",
   "version": "3.9.16"
  },
  "orig_nbformat": 4
 },
 "nbformat": 4,
 "nbformat_minor": 2
}
