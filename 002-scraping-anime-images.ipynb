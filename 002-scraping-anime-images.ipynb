{
 "cells": [
  {
   "cell_type": "code",
   "execution_count": 21,
   "metadata": {},
   "outputs": [],
   "source": [
    "import numpy as np\n",
    "import pandas as pd\n",
    "import matplotlib.pyplot as plt\n",
    "import seaborn as sns\n",
    "sns.set_style(\"darkgrid\")\n",
    "from tqdm import tqdm\n",
    "#scraping imports:\n",
    "from imutils import paths\n",
    "import argparse\n",
    "import requests\n",
    "import cv2\n",
    "import os\n",
    "import ctypes\n",
    "from selenium import webdriver\n",
    "from selenium.webdriver.chrome.options import Options\n",
    "from selenium.webdriver.common.keys import Keys\n",
    "import os\n",
    "import glob\n",
    "import time"
   ]
  },
  {
   "cell_type": "code",
   "execution_count": 22,
   "metadata": {},
   "outputs": [],
   "source": [
    "DATA = r\"./data/top_anime_list/UsableAnimeList.xlsx\"\n",
    "df = pd.read_excel(DATA, sheet_name=\"usable\")\n",
    "anime_list = df[\"usable_title\"].tolist()"
   ]
  },
  {
   "cell_type": "code",
   "execution_count": 23,
   "metadata": {},
   "outputs": [],
   "source": [
    "class scrapeAnimeImageURLs:\n",
    "    def __init__(self, anime_list):\n",
    "        self.downloads_folder = r\"C:\\Users\\kaush\\Downloads\"\n",
    "        self.destination_folder = r\"./data/anime_img_urls\"\n",
    "        for anime in anime_list:\n",
    "            self.get_image_URLS(anime)\n",
    "            self.move_download_file(anime)\n",
    "    \n",
    "    def get_image_URLS(self, anime_name):\n",
    "        self.options = webdriver.ChromeOptions()\n",
    "        self.options.add_argument('--headless=new')\n",
    "        self.driver = webdriver.Chrome(options=self.options)\n",
    "        self.driver.get(\"https://www.google.com/search?tbm=isch&q=\" + anime_name)\n",
    "        self.driver.execute_script(\"window.scrollBy(0,10000)\")\n",
    "        time.sleep(0.5)\n",
    "        self.driver.execute_script(\"window.scrollBy(0,20000)\") # adding more of these will load more images\n",
    "        time.sleep(0.5)\n",
    "        self.driver.execute_script(\"window.scrollBy(0,30000)\") # putting it in a loop somehow reduces the number of images and scrolls less\n",
    "        time.sleep(0.5)\n",
    "        self.driver.execute_script(\"window.scrollBy(0,40000)\")\n",
    "        time.sleep(0.5)\n",
    "        self.driver.execute_script(\"window.scrollBy(0,50000)\")\n",
    "        time.sleep(0.5)\n",
    "        self.driver.execute_script(\"window.scrollBy(0,60000)\")\n",
    "        time.sleep(0.5)\n",
    "        self.driver.execute_script(\"window.scrollBy(0,70000)\") # we'll get roughly 800 imags after all the scrolling\n",
    "        time.sleep(0.5)\n",
    "        self.driver.execute_script(\"window.scrollBy(0,80000)\") # so its roughly 100 images per 10000 y-axis scroll\n",
    "        self.driver.execute_script(r\"\"\"\n",
    "            function saveImgTagToCSV(jsonArray) {\n",
    "            const csvData = jsonArray.map((element) => {\n",
    "                let imgTag = '';\n",
    "\n",
    "                if (element.outerHTML) {\n",
    "                imgTag = `\"${element.outerHTML.replace(/\"/g, '\"\"')}\"`;\n",
    "                }\n",
    "\n",
    "                return imgTag;\n",
    "            }).join('\\n');\n",
    "\n",
    "            return csvData;\n",
    "            }\n",
    "            //then run this:\n",
    "            const imgs_rg = Array.from(document.querySelectorAll('.rg_i'));\n",
    "            const imgs_grn = Array.from(document.querySelectorAll('.GRN7Gc'));\n",
    "            const imgs_ll = Array.from(document.querySelectorAll('.ll3EIMe'));\n",
    "            const imgs = imgs_rg.concat(imgs_grn, imgs_ll);\n",
    "            img_data = saveImgTagToCSV(imgs);\n",
    "            window.open('data:text/csv;charset=utf-8,' + escape(img_data))\"\"\")\n",
    "        \n",
    "    def move_download_file(self, anime_name):\n",
    "        time.sleep(1)\n",
    "        file_list = glob.glob(os.path.sep.join([self.downloads_folder, \"/*\"]))\n",
    "        latest_file = max(file_list, key=lambda x: os.stat(x).st_mtime)\n",
    "        self.created_file = self.destination_folder+\"/\"+anime_name+\".csv\"\n",
    "        os.replace(latest_file, self.created_file)\n",
    "        \n",
    "    def clean_urls(self):\n",
    "        pass\n",
    "    \n",
    "        "
   ]
  },
  {
   "cell_type": "code",
   "execution_count": 24,
   "metadata": {},
   "outputs": [],
   "source": [
    "scraper = scrapeAnimeImageURLs([\"cowboy bepop\", \"naruto\"])"
   ]
  },
  {
   "cell_type": "code",
   "execution_count": null,
   "metadata": {},
   "outputs": [],
   "source": []
  },
  {
   "cell_type": "code",
   "execution_count": null,
   "metadata": {},
   "outputs": [],
   "source": []
  },
  {
   "cell_type": "code",
   "execution_count": 20,
   "metadata": {},
   "outputs": [],
   "source": [
    "# options = webdriver.ChromeOptions()\n",
    "# #options.add_argument('headless')\n",
    "# options.add_argument('window-size=1200x600')\n",
    "# options.add_argument('--headless=new')\n",
    "# driver = webdriver.Chrome(options=options)\n",
    "# driver.get(\"https://www.google.com/search?tbm=isch&q=\" + \"cowboy bebop\")\n",
    "# driver.execute_script(\"window.scrollBy(0,10000)\")\n",
    "# time.sleep(0.5)\n",
    "# driver.execute_script(\"window.scrollBy(0,20000)\") #adding more of these will load more images\n",
    "# time.sleep(0.5)\n",
    "# driver.execute_script(\"window.scrollBy(0,30000)\") #putting it in a loop somehow reduces the number of images and scrolls less\n",
    "# time.sleep(0.5)\n",
    "# driver.execute_script(\"window.scrollBy(0,40000)\")\n",
    "# time.sleep(0.5)\n",
    "# driver.execute_script(\"window.scrollBy(0,50000)\")\n",
    "# time.sleep(0.5)\n",
    "# driver.execute_script(\"window.scrollBy(0,60000)\")\n",
    "# time.sleep(0.5)\n",
    "# driver.execute_script(\"window.scrollBy(0,70000)\")\n",
    "# time.sleep(0.5)\n",
    "# driver.execute_script(\"window.scrollBy(0,80000)\")\n",
    "# driver.execute_script(r\"\"\"\n",
    "# function saveImgTagToCSV(jsonArray) {\n",
    "#   const csvData = jsonArray.map((element) => {\n",
    "#     let imgTag = '';\n",
    "\n",
    "#     if (element.outerHTML) {\n",
    "#       imgTag = `\"${element.outerHTML.replace(/\"/g, '\"\"')}\"`;\n",
    "#     }\n",
    "\n",
    "#     return imgTag;\n",
    "#   }).join('\\n');\n",
    "\n",
    "#   return csvData;\n",
    "# }\n",
    "#   //then run this:\n",
    "#   const imgs_rg = Array.from(document.querySelectorAll('.rg_i'));\n",
    "#   const imgs_grn = Array.from(document.querySelectorAll('.GRN7Gc'));\n",
    "#   const imgs_ll = Array.from(document.querySelectorAll('.ll3EIMe'));\n",
    "#   const imgs = imgs_rg.concat(imgs_grn, imgs_ll);\n",
    "#   img_data = saveImgTagToCSV(imgs);\n",
    "#   window.open('data:text/csv;charset=utf-8,' + escape(img_data))\"\"\")"
   ]
  },
  {
   "attachments": {},
   "cell_type": "markdown",
   "metadata": {},
   "source": [
    "    Image classes:\n",
    "        rg_i Q4LuWd\n",
    "        GRN7Gc\n",
    "        ll3IMe.CBvy7c\n",
    "    Somehow we always have 0 LL images, but that's a worry for later....I'll keep it there just in case it works :D\n",
    "\n",
    "    \n",
    "    Current workflow:\n",
    "    Run the driver line above\n",
    "    Run the following in the console:\n",
    "    thanks ChatGPT for helping when I was stuck with JavaScript"
   ]
  },
  {
   "cell_type": "code",
   "execution_count": null,
   "metadata": {
    "vscode": {
     "languageId": "javascript"
    }
   },
   "outputs": [],
   "source": []
  }
 ],
 "metadata": {
  "kernelspec": {
   "display_name": "anime_scraper",
   "language": "python",
   "name": "python3"
  },
  "language_info": {
   "codemirror_mode": {
    "name": "ipython",
    "version": 3
   },
   "file_extension": ".py",
   "mimetype": "text/x-python",
   "name": "python",
   "nbconvert_exporter": "python",
   "pygments_lexer": "ipython3",
   "version": "3.9.16"
  },
  "orig_nbformat": 4
 },
 "nbformat": 4,
 "nbformat_minor": 2
}
