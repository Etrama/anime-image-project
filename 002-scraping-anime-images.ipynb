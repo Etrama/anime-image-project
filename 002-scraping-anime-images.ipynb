{
 "cells": [
  {
   "cell_type": "code",
   "execution_count": 38,
   "metadata": {},
   "outputs": [],
   "source": [
    "import numpy as np\n",
    "import pandas as pd\n",
    "import matplotlib.pyplot as plt\n",
    "import seaborn as sns\n",
    "sns.set_style(\"darkgrid\")\n",
    "from tqdm import tqdm\n",
    "#scraping imports:\n",
    "from imutils import paths\n",
    "import argparse\n",
    "import requests\n",
    "import cv2\n",
    "import os\n",
    "import ctypes\n",
    "from selenium import webdriver\n",
    "from selenium.webdriver.chrome.options import Options\n",
    "from selenium.webdriver.common.keys import Keys\n",
    "import os\n",
    "import glob\n",
    "import time\n",
    "import re\n",
    "import base64"
   ]
  },
  {
   "cell_type": "code",
   "execution_count": 39,
   "metadata": {},
   "outputs": [],
   "source": [
    "DATA = r\"./data/top_anime_list/UsableAnimeList.xlsx\"\n",
    "df = pd.read_excel(DATA, sheet_name=\"usable\") #remember to remove duplicates\n",
    "df = df[\"usable_title\"]\n",
    "#removing duplicates\n",
    "df = df.drop_duplicates()\n",
    "anime_list = df.tolist()"
   ]
  },
  {
   "cell_type": "code",
   "execution_count": 40,
   "metadata": {},
   "outputs": [],
   "source": [
    "class scrapeAnimeImageURLs:\n",
    "    def __init__(self, anime_list):\n",
    "        self.downloads_folder = r\"C:\\Users\\kaush\\Downloads\"\n",
    "        self.img_urls_dest = r\"./data/anime_img_urls\"\n",
    "        self.options = webdriver.ChromeOptions()\n",
    "        self.options.add_argument('--headless=new')\n",
    "        self.driver = webdriver.Chrome(options=self.options)\n",
    "        for anime in tqdm(anime_list, desc=\"AnimeList\"):\n",
    "            anime = self.get_saveable_animename(anime)\n",
    "            self.img_dest_folder = \"./data/anime_images/\" + anime + \"/\"\n",
    "            self.get_image_URLS(anime)\n",
    "            url_filename = self.move_download_file(anime)\n",
    "            #even encoding = 'latin-1' will work\n",
    "            raw_image_urls= pd.read_csv(url_filename, encoding='ISO-8859-1', header=None)\n",
    "            raw_image_urls.columns = [\"image_tag\"]\n",
    "            processed_image_urls = raw_image_urls[\"image_tag\"].apply(self.get_url_from_html)\n",
    "            self.get_image_from_url(processed_image_urls, anime, self.img_dest_folder)\n",
    "        self.driver.quit()\n",
    "    \n",
    "    def get_image_URLS(self, anime_name):\n",
    "        print(f\"Currently scraping image urls for: {anime_name}\")\n",
    "        self.driver.get(\"https://www.google.com/search?tbm=isch&q=\" + anime_name)\n",
    "        for _ in range(1,9): #be mindful and increase the scroll range on each loop iteration\n",
    "            self.driver.execute_script(f\"window.scrollBy(0,{_*10000})\") # so its roughly 100 images per 10000 y-axis scroll\n",
    "            time.sleep(0.5) # of which a little less than half turn out to be useful\n",
    "        self.driver.execute_script(r\"\"\"\n",
    "            function saveImgTagToCSV(jsonArray) {\n",
    "            const csvData = jsonArray.map((element) => {\n",
    "                let imgTag = '';\n",
    "\n",
    "                if (element.outerHTML) {\n",
    "                imgTag = `\"${element.outerHTML.replace(/\"/g, '\"\"')}\"`;\n",
    "                }\n",
    "\n",
    "                return imgTag;\n",
    "            }).join('\\n');\n",
    "\n",
    "            return csvData;\n",
    "            }\n",
    "            //then run this:\n",
    "            const imgs_rg = Array.from(document.querySelectorAll('.rg_i'));\n",
    "            const imgs_grn = Array.from(document.querySelectorAll('.GRN7Gc'));\n",
    "            const imgs_ll = Array.from(document.querySelectorAll('.ll3EIMe'));\n",
    "            const imgs = imgs_rg.concat(imgs_grn, imgs_ll);\n",
    "            img_data = saveImgTagToCSV(imgs);\n",
    "            window.open('data:text/csv;charset=utf-8,' + escape(img_data))\"\"\")\n",
    "        \n",
    "    def move_download_file(self, anime_name):\n",
    "        time.sleep(1)\n",
    "        file_list = glob.glob(os.path.sep.join([self.downloads_folder, \"/*\"]))\n",
    "        latest_file = max(file_list, key=lambda x: os.stat(x).st_mtime)\n",
    "        self.created_filename = self.img_urls_dest+\"/\"+anime_name+\".csv\"\n",
    "        os.replace(latest_file, self.created_filename)\n",
    "        return self.created_filename\n",
    "\n",
    "    def get_url_from_html(self, html_code):   \n",
    "        match = re.search(r'<img.*?(?:src|data-src)=\"(.*?)\".*?>', html_code)\n",
    "        if match:\n",
    "            source = match.group(1)\n",
    "            return source #tested that this takes care of all cases.\n",
    "    \n",
    "    def get_image_from_url(self, url_sources, anime_name, dest_folder):\n",
    "        print(f\"Currently downloading images for: {anime_name}\")\n",
    "        if not os.path.exists(dest_folder):\n",
    "            os.makedirs(dest_folder)\n",
    "        count = 0\n",
    "        for source in url_sources:\n",
    "            if source.startswith('data:image') and \"base64\" in source:\n",
    "                match = re.search(r'src=\"data:image\\/.*?;base64,(.*?)\"', source)\n",
    "                if match:\n",
    "                    base64_string = match.group(1)\n",
    "                    # Decode the base64 string\n",
    "                    image_data = base64.b64decode(base64_string)\n",
    "                    count += 1\n",
    "                    image_name = dest_folder + anime_name + \"_\" + str(count).zfill(3) + \".jpg\"\n",
    "                    with open(image_name, 'wb') as f:\n",
    "                        f.write(image_data)\n",
    "            else:\n",
    "                if \"favicon\" not in source:\n",
    "                    response = requests.get(source)\n",
    "                    # Check if the request was successful\n",
    "                    if response.status_code == 200:\n",
    "                        count += 1\n",
    "                        image_name = dest_folder + anime_name + \"_\" + str(count).zfill(3) + \".jpg\"\n",
    "                        # Open the file in binary mode and write the image content\n",
    "                        with open(image_name, 'wb') as file:\n",
    "                            file.write(response.content)\n",
    "    \n",
    "    def get_saveable_animename(self, anime_name):\n",
    "        saveable_anime_name = anime_name\n",
    "        for ch in [\"\\\\\", \"/\", \":\", \"*\", \"?\", \"\\\"\", \"<\", \">\", \"|\"]:\n",
    "              if ch in saveable_anime_name: #windows does not allow these characters in filenames\n",
    "                saveable_anime_name = saveable_anime_name.replace(ch,\"\")\n",
    "        return saveable_anime_name  "
   ]
  },
  {
   "cell_type": "code",
   "execution_count": 41,
   "metadata": {},
   "outputs": [
    {
     "name": "stderr",
     "output_type": "stream",
     "text": [
      "AnimeList:   0%|          | 0/50 [00:00<?, ?it/s]"
     ]
    },
    {
     "name": "stdout",
     "output_type": "stream",
     "text": [
      "Currently scraping image urls for: Fullmetal Alchemist Brotherhood\n",
      "Currently downloading images for: Fullmetal Alchemist Brotherhood\n"
     ]
    },
    {
     "name": "stderr",
     "output_type": "stream",
     "text": [
      "AnimeList:   2%|▏         | 1/50 [00:43<35:33, 43.54s/it]"
     ]
    },
    {
     "name": "stdout",
     "output_type": "stream",
     "text": [
      "Currently scraping image urls for: Your Name\n",
      "Currently downloading images for: Your Name\n"
     ]
    },
    {
     "name": "stderr",
     "output_type": "stream",
     "text": [
      "AnimeList:   4%|▍         | 2/50 [01:24<33:42, 42.14s/it]"
     ]
    },
    {
     "name": "stdout",
     "output_type": "stream",
     "text": [
      "Currently scraping image urls for: Steins Gate\n",
      "Currently downloading images for: Steins Gate\n"
     ]
    },
    {
     "name": "stderr",
     "output_type": "stream",
     "text": [
      "AnimeList:   6%|▌         | 3/50 [02:16<36:19, 46.38s/it]"
     ]
    },
    {
     "name": "stdout",
     "output_type": "stream",
     "text": [
      "Currently scraping image urls for: Legend of the Galactic Heroes\n",
      "Currently downloading images for: Legend of the Galactic Heroes\n"
     ]
    },
    {
     "name": "stderr",
     "output_type": "stream",
     "text": [
      "AnimeList:   8%|▊         | 4/50 [03:06<36:52, 48.10s/it]"
     ]
    },
    {
     "name": "stdout",
     "output_type": "stream",
     "text": [
      "Currently scraping image urls for: Hunter x Hunter\n",
      "Currently downloading images for: Hunter x Hunter\n"
     ]
    },
    {
     "name": "stderr",
     "output_type": "stream",
     "text": [
      "AnimeList:  10%|█         | 5/50 [03:53<35:42, 47.61s/it]"
     ]
    },
    {
     "name": "stdout",
     "output_type": "stream",
     "text": [
      "Currently scraping image urls for: Gintama\n",
      "Currently downloading images for: Gintama\n"
     ]
    },
    {
     "name": "stderr",
     "output_type": "stream",
     "text": [
      "AnimeList:  12%|█▏        | 6/50 [04:40<34:39, 47.25s/it]"
     ]
    },
    {
     "name": "stdout",
     "output_type": "stream",
     "text": [
      "Currently scraping image urls for: A Silent Voice\n",
      "Currently downloading images for: A Silent Voice\n"
     ]
    },
    {
     "name": "stderr",
     "output_type": "stream",
     "text": [
      "AnimeList:  14%|█▍        | 7/50 [05:10<29:50, 41.64s/it]"
     ]
    },
    {
     "name": "stdout",
     "output_type": "stream",
     "text": [
      "Currently scraping image urls for: Clannad\n",
      "Currently downloading images for: Clannad\n"
     ]
    },
    {
     "name": "stderr",
     "output_type": "stream",
     "text": [
      "AnimeList:  16%|█▌        | 8/50 [06:02<31:25, 44.89s/it]"
     ]
    },
    {
     "name": "stdout",
     "output_type": "stream",
     "text": [
      "Currently scraping image urls for: Code Geass\n",
      "Currently downloading images for: Code Geass\n"
     ]
    },
    {
     "name": "stderr",
     "output_type": "stream",
     "text": [
      "AnimeList:  18%|█▊        | 9/50 [06:58<33:07, 48.49s/it]"
     ]
    },
    {
     "name": "stdout",
     "output_type": "stream",
     "text": [
      "Currently scraping image urls for: Spirited Away\n",
      "Currently downloading images for: Spirited Away\n"
     ]
    },
    {
     "name": "stderr",
     "output_type": "stream",
     "text": [
      "AnimeList:  20%|██        | 10/50 [07:52<33:31, 50.29s/it]"
     ]
    },
    {
     "name": "stdout",
     "output_type": "stream",
     "text": [
      "Currently scraping image urls for: Made in Abyss\n",
      "Currently downloading images for: Made in Abyss\n"
     ]
    },
    {
     "name": "stderr",
     "output_type": "stream",
     "text": [
      "AnimeList:  22%|██▏       | 11/50 [08:37<31:32, 48.52s/it]"
     ]
    },
    {
     "name": "stdout",
     "output_type": "stream",
     "text": [
      "Currently scraping image urls for: Your Lie in April\n",
      "Currently downloading images for: Your Lie in April\n"
     ]
    },
    {
     "name": "stderr",
     "output_type": "stream",
     "text": [
      "AnimeList:  24%|██▍       | 12/50 [09:28<31:16, 49.39s/it]"
     ]
    },
    {
     "name": "stdout",
     "output_type": "stream",
     "text": [
      "Currently scraping image urls for: Kizumonogatari III Reiketsu-hen\n",
      "Currently downloading images for: Kizumonogatari III Reiketsu-hen\n"
     ]
    },
    {
     "name": "stderr",
     "output_type": "stream",
     "text": [
      "AnimeList:  26%|██▌       | 13/50 [10:12<29:24, 47.70s/it]"
     ]
    },
    {
     "name": "stdout",
     "output_type": "stream",
     "text": [
      "Currently scraping image urls for: Descending Stories Showa Genroku Rakugo Shinju\n",
      "Currently downloading images for: Descending Stories Showa Genroku Rakugo Shinju\n"
     ]
    },
    {
     "name": "stderr",
     "output_type": "stream",
     "text": [
      "AnimeList:  28%|██▊       | 14/50 [10:49<26:39, 44.42s/it]"
     ]
    },
    {
     "name": "stdout",
     "output_type": "stream",
     "text": [
      "Currently scraping image urls for: Cowboy Bebop\n",
      "Currently downloading images for: Cowboy Bebop\n"
     ]
    },
    {
     "name": "stderr",
     "output_type": "stream",
     "text": [
      "AnimeList:  30%|███       | 15/50 [11:32<25:37, 43.92s/it]"
     ]
    },
    {
     "name": "stdout",
     "output_type": "stream",
     "text": [
      "Currently scraping image urls for: Hajime no Ippo\n",
      "Currently downloading images for: Hajime no Ippo\n"
     ]
    },
    {
     "name": "stderr",
     "output_type": "stream",
     "text": [
      "AnimeList:  32%|███▏      | 16/50 [12:23<26:06, 46.06s/it]"
     ]
    },
    {
     "name": "stdout",
     "output_type": "stream",
     "text": [
      "Currently scraping image urls for: Princess Mononoke\n",
      "Currently downloading images for: Princess Mononoke\n"
     ]
    },
    {
     "name": "stderr",
     "output_type": "stream",
     "text": [
      "AnimeList:  34%|███▍      | 17/50 [13:12<25:52, 47.06s/it]"
     ]
    },
    {
     "name": "stdout",
     "output_type": "stream",
     "text": [
      "Currently scraping image urls for: Samurai X\n",
      "Currently downloading images for: Samurai X\n"
     ]
    },
    {
     "name": "stderr",
     "output_type": "stream",
     "text": [
      "AnimeList:  36%|███▌      | 18/50 [13:57<24:50, 46.56s/it]"
     ]
    },
    {
     "name": "stdout",
     "output_type": "stream",
     "text": [
      "Currently scraping image urls for: Mushishi\n",
      "Currently downloading images for: Mushishi\n"
     ]
    },
    {
     "name": "stderr",
     "output_type": "stream",
     "text": [
      "AnimeList:  38%|███▊      | 19/50 [14:41<23:37, 45.71s/it]"
     ]
    },
    {
     "name": "stdout",
     "output_type": "stream",
     "text": [
      "Currently scraping image urls for: Wolf Children\n",
      "Currently downloading images for: Wolf Children\n"
     ]
    },
    {
     "name": "stderr",
     "output_type": "stream",
     "text": [
      "AnimeList:  40%|████      | 20/50 [15:21<22:01, 44.07s/it]"
     ]
    },
    {
     "name": "stdout",
     "output_type": "stream",
     "text": [
      "Currently scraping image urls for: Great Teacher Onizuka\n",
      "Currently downloading images for: Great Teacher Onizuka\n"
     ]
    },
    {
     "name": "stderr",
     "output_type": "stream",
     "text": [
      "AnimeList:  42%|████▏     | 21/50 [16:13<22:20, 46.22s/it]"
     ]
    },
    {
     "name": "stdout",
     "output_type": "stream",
     "text": [
      "Currently scraping image urls for: No Game No Life\n",
      "Currently downloading images for: No Game No Life\n"
     ]
    },
    {
     "name": "stderr",
     "output_type": "stream",
     "text": [
      "AnimeList:  44%|████▍     | 22/50 [17:12<23:21, 50.05s/it]"
     ]
    },
    {
     "name": "stdout",
     "output_type": "stream",
     "text": [
      "Currently scraping image urls for: Gurren Lagann\n",
      "Currently downloading images for: Gurren Lagann\n"
     ]
    },
    {
     "name": "stderr",
     "output_type": "stream",
     "text": [
      "AnimeList:  46%|████▌     | 23/50 [18:06<23:03, 51.25s/it]"
     ]
    },
    {
     "name": "stdout",
     "output_type": "stream",
     "text": [
      "Currently scraping image urls for: Howl's Moving Castle\n",
      "Currently downloading images for: Howl's Moving Castle\n"
     ]
    },
    {
     "name": "stderr",
     "output_type": "stream",
     "text": [
      "AnimeList:  48%|████▊     | 24/50 [19:07<23:27, 54.15s/it]"
     ]
    },
    {
     "name": "stdout",
     "output_type": "stream",
     "text": [
      "Currently scraping image urls for: One Punch Man\n",
      "Currently downloading images for: One Punch Man\n"
     ]
    },
    {
     "name": "stderr",
     "output_type": "stream",
     "text": [
      "AnimeList:  50%|█████     | 25/50 [20:07<23:23, 56.14s/it]"
     ]
    },
    {
     "name": "stdout",
     "output_type": "stream",
     "text": [
      "Currently scraping image urls for: The Disappearance of Haruhi Suzumiya\n",
      "Currently downloading images for: The Disappearance of Haruhi Suzumiya\n"
     ]
    },
    {
     "name": "stderr",
     "output_type": "stream",
     "text": [
      "AnimeList:  52%|█████▏    | 26/50 [21:18<24:14, 60.59s/it]"
     ]
    },
    {
     "name": "stdout",
     "output_type": "stream",
     "text": [
      "Currently scraping image urls for: Kizumonogatari\n",
      "Currently downloading images for: Kizumonogatari\n"
     ]
    },
    {
     "name": "stderr",
     "output_type": "stream",
     "text": [
      "AnimeList:  54%|█████▍    | 27/50 [21:59<20:57, 54.67s/it]"
     ]
    },
    {
     "name": "stdout",
     "output_type": "stream",
     "text": [
      "Currently scraping image urls for: Monster\n",
      "Currently downloading images for: Monster\n"
     ]
    },
    {
     "name": "stderr",
     "output_type": "stream",
     "text": [
      "AnimeList:  56%|█████▌    | 28/50 [22:53<19:59, 54.53s/it]"
     ]
    },
    {
     "name": "stdout",
     "output_type": "stream",
     "text": [
      "Currently scraping image urls for: Death Note\n",
      "Currently downloading images for: Death Note\n"
     ]
    },
    {
     "name": "stderr",
     "output_type": "stream",
     "text": [
      "AnimeList:  58%|█████▊    | 29/50 [23:53<19:37, 56.05s/it]"
     ]
    },
    {
     "name": "stdout",
     "output_type": "stream",
     "text": [
      "Currently scraping image urls for: The Disastrous Life of Saiki K.\n",
      "Currently downloading images for: The Disastrous Life of Saiki K.\n"
     ]
    },
    {
     "name": "stderr",
     "output_type": "stream",
     "text": [
      "AnimeList:  60%|██████    | 30/50 [25:14<21:08, 63.45s/it]"
     ]
    },
    {
     "name": "stdout",
     "output_type": "stream",
     "text": [
      "Currently scraping image urls for: Pingu in the City\n",
      "Currently downloading images for: Pingu in the City\n"
     ]
    },
    {
     "name": "stderr",
     "output_type": "stream",
     "text": [
      "AnimeList:  62%|██████▏   | 31/50 [26:39<22:11, 70.09s/it]"
     ]
    },
    {
     "name": "stdout",
     "output_type": "stream",
     "text": [
      "Currently scraping image urls for: Haikyu!!\n",
      "Currently downloading images for: Haikyu!!\n"
     ]
    },
    {
     "name": "stderr",
     "output_type": "stream",
     "text": [
      "AnimeList:  64%|██████▍   | 32/50 [27:36<19:50, 66.12s/it]"
     ]
    },
    {
     "name": "stdout",
     "output_type": "stream",
     "text": [
      "Currently scraping image urls for: Ping Pong the Animation\n",
      "Currently downloading images for: Ping Pong the Animation\n"
     ]
    },
    {
     "name": "stderr",
     "output_type": "stream",
     "text": [
      "AnimeList:  66%|██████▌   | 33/50 [28:31<17:46, 62.73s/it]"
     ]
    },
    {
     "name": "stdout",
     "output_type": "stream",
     "text": [
      "Currently scraping image urls for: A Place Further Than The Universe\n",
      "Currently downloading images for: A Place Further Than The Universe\n"
     ]
    },
    {
     "name": "stderr",
     "output_type": "stream",
     "text": [
      "AnimeList:  68%|██████▊   | 34/50 [29:27<16:10, 60.68s/it]"
     ]
    },
    {
     "name": "stdout",
     "output_type": "stream",
     "text": [
      "Currently scraping image urls for: The Tatami Galaxy\n",
      "Currently downloading images for: The Tatami Galaxy\n"
     ]
    },
    {
     "name": "stderr",
     "output_type": "stream",
     "text": [
      "AnimeList:  70%|███████   | 35/50 [30:32<15:30, 62.00s/it]"
     ]
    },
    {
     "name": "stdout",
     "output_type": "stream",
     "text": [
      "Currently scraping image urls for: The Shadow that Devours the Sun\n",
      "Currently downloading images for: The Shadow that Devours the Sun\n"
     ]
    },
    {
     "name": "stderr",
     "output_type": "stream",
     "text": [
      "AnimeList:  72%|███████▏  | 36/50 [30:43<10:54, 46.76s/it]"
     ]
    },
    {
     "name": "stdout",
     "output_type": "stream",
     "text": [
      "Currently scraping image urls for: Jojo's Bizarre Adventure\n",
      "Currently downloading images for: Jojo's Bizarre Adventure\n"
     ]
    },
    {
     "name": "stderr",
     "output_type": "stream",
     "text": [
      "AnimeList:  74%|███████▍  | 37/50 [31:32<10:15, 47.32s/it]"
     ]
    },
    {
     "name": "stdout",
     "output_type": "stream",
     "text": [
      "Currently scraping image urls for: The Garden of Sinners\n",
      "Currently downloading images for: The Garden of Sinners\n"
     ]
    },
    {
     "name": "stderr",
     "output_type": "stream",
     "text": [
      "AnimeList:  76%|███████▌  | 38/50 [32:20<09:31, 47.62s/it]"
     ]
    },
    {
     "name": "stdout",
     "output_type": "stream",
     "text": [
      "Currently scraping image urls for: Showa Genroku Rakugo Shinju\n",
      "Currently downloading images for: Showa Genroku Rakugo Shinju\n"
     ]
    },
    {
     "name": "stderr",
     "output_type": "stream",
     "text": [
      "AnimeList:  78%|███████▊  | 39/50 [34:03<11:46, 64.23s/it]"
     ]
    },
    {
     "name": "stdout",
     "output_type": "stream",
     "text": [
      "Currently scraping image urls for: Rocky Joe 2\n",
      "Currently downloading images for: Rocky Joe 2\n"
     ]
    },
    {
     "name": "stderr",
     "output_type": "stream",
     "text": [
      "AnimeList:  80%|████████  | 40/50 [35:08<10:43, 64.36s/it]"
     ]
    },
    {
     "name": "stdout",
     "output_type": "stream",
     "text": [
      "Currently scraping image urls for: Aria The Origination\n",
      "Currently downloading images for: Aria The Origination\n"
     ]
    },
    {
     "name": "stderr",
     "output_type": "stream",
     "text": [
      "AnimeList:  82%|████████▏ | 41/50 [36:05<09:20, 62.24s/it]"
     ]
    },
    {
     "name": "stdout",
     "output_type": "stream",
     "text": [
      "Currently scraping image urls for: Rainbow\n",
      "Currently downloading images for: Rainbow\n"
     ]
    },
    {
     "name": "stderr",
     "output_type": "stream",
     "text": [
      "AnimeList:  84%|████████▍ | 42/50 [36:57<07:53, 59.13s/it]"
     ]
    },
    {
     "name": "stdout",
     "output_type": "stream",
     "text": [
      "Currently scraping image urls for: Violet Evergarden\n",
      "Currently downloading images for: Violet Evergarden\n"
     ]
    },
    {
     "name": "stderr",
     "output_type": "stream",
     "text": [
      "AnimeList:  86%|████████▌ | 43/50 [38:08<07:19, 62.84s/it]"
     ]
    },
    {
     "name": "stdout",
     "output_type": "stream",
     "text": [
      "Currently scraping image urls for: Shokugeki no Souma\n",
      "Currently downloading images for: Shokugeki no Souma\n"
     ]
    },
    {
     "name": "stderr",
     "output_type": "stream",
     "text": [
      "AnimeList:  88%|████████▊ | 44/50 [39:34<06:57, 69.64s/it]"
     ]
    },
    {
     "name": "stdout",
     "output_type": "stream",
     "text": [
      "Currently scraping image urls for: ERASED\n",
      "Currently downloading images for: ERASED\n"
     ]
    },
    {
     "name": "stderr",
     "output_type": "stream",
     "text": [
      "AnimeList:  90%|█████████ | 45/50 [41:04<06:19, 75.86s/it]"
     ]
    },
    {
     "name": "stdout",
     "output_type": "stream",
     "text": [
      "Currently scraping image urls for: Space Brothers\n",
      "Currently downloading images for: Space Brothers\n"
     ]
    },
    {
     "name": "stderr",
     "output_type": "stream",
     "text": [
      "AnimeList:  92%|█████████▏| 46/50 [42:46<05:34, 83.55s/it]"
     ]
    },
    {
     "name": "stdout",
     "output_type": "stream",
     "text": [
      "Currently scraping image urls for: anohana The Flower We Saw That Day\n",
      "Currently downloading images for: anohana The Flower We Saw That Day\n"
     ]
    },
    {
     "name": "stderr",
     "output_type": "stream",
     "text": [
      "AnimeList:  94%|█████████▍| 47/50 [44:01<04:03, 81.16s/it]"
     ]
    },
    {
     "name": "stdout",
     "output_type": "stream",
     "text": [
      "Currently scraping image urls for: Ghost in the Shell\n",
      "Currently downloading images for: Ghost in the Shell\n"
     ]
    },
    {
     "name": "stderr",
     "output_type": "stream",
     "text": [
      "AnimeList:  96%|█████████▌| 48/50 [45:04<02:30, 75.46s/it]"
     ]
    },
    {
     "name": "stdout",
     "output_type": "stream",
     "text": [
      "Currently scraping image urls for: Grave of the Fireflies\n",
      "Currently downloading images for: Grave of the Fireflies\n"
     ]
    },
    {
     "name": "stderr",
     "output_type": "stream",
     "text": [
      "AnimeList:  98%|█████████▊| 49/50 [45:50<01:06, 66.78s/it]"
     ]
    },
    {
     "name": "stdout",
     "output_type": "stream",
     "text": [
      "Currently scraping image urls for: Hotarubi no Mori e\n",
      "Currently downloading images for: Hotarubi no Mori e\n"
     ]
    },
    {
     "name": "stderr",
     "output_type": "stream",
     "text": [
      "AnimeList: 100%|██████████| 50/50 [46:49<00:00, 56.18s/it]\n"
     ]
    }
   ],
   "source": [
    "scraper = scrapeAnimeImageURLs(anime_list[0:50])"
   ]
  },
  {
   "cell_type": "code",
   "execution_count": 42,
   "metadata": {},
   "outputs": [
    {
     "name": "stderr",
     "output_type": "stream",
     "text": [
      "AnimeList:   0%|          | 0/50 [00:00<?, ?it/s]"
     ]
    },
    {
     "name": "stdout",
     "output_type": "stream",
     "text": [
      "Currently scraping image urls for: Slam Dunk\n",
      "Currently downloading images for: Slam Dunk\n"
     ]
    },
    {
     "name": "stderr",
     "output_type": "stream",
     "text": [
      "AnimeList:   2%|▏         | 1/50 [01:12<58:51, 72.08s/it]"
     ]
    },
    {
     "name": "stdout",
     "output_type": "stream",
     "text": [
      "Currently scraping image urls for: Kamisama Hajimemashita\n",
      "Currently downloading images for: Kamisama Hajimemashita\n"
     ]
    },
    {
     "name": "stderr",
     "output_type": "stream",
     "text": [
      "AnimeList:   4%|▍         | 2/50 [02:41<1:05:59, 82.50s/it]"
     ]
    },
    {
     "name": "stdout",
     "output_type": "stream",
     "text": [
      "Currently scraping image urls for: Major S5\n",
      "Currently downloading images for: Major S5\n"
     ]
    },
    {
     "name": "stderr",
     "output_type": "stream",
     "text": [
      "AnimeList:   6%|▌         | 3/50 [03:22<49:41, 63.44s/it]  "
     ]
    },
    {
     "name": "stdout",
     "output_type": "stream",
     "text": [
      "Currently scraping image urls for: One Piece\n",
      "Currently downloading images for: One Piece\n"
     ]
    },
    {
     "name": "stderr",
     "output_type": "stream",
     "text": [
      "AnimeList:   8%|▊         | 4/50 [04:36<51:43, 67.46s/it]"
     ]
    },
    {
     "name": "stdout",
     "output_type": "stream",
     "text": [
      "Currently scraping image urls for: Hellsing Ultimate\n",
      "Currently downloading images for: Hellsing Ultimate\n"
     ]
    },
    {
     "name": "stderr",
     "output_type": "stream",
     "text": [
      "AnimeList:  10%|█         | 5/50 [06:01<55:17, 73.71s/it]"
     ]
    },
    {
     "name": "stdout",
     "output_type": "stream",
     "text": [
      "Currently scraping image urls for: Parasyte\n",
      "Currently downloading images for: Parasyte\n"
     ]
    },
    {
     "name": "stderr",
     "output_type": "stream",
     "text": [
      "AnimeList:  12%|█▏        | 6/50 [07:15<54:11, 73.90s/it]"
     ]
    },
    {
     "name": "stdout",
     "output_type": "stream",
     "text": [
      "Currently scraping image urls for: Nichijou\n",
      "Currently downloading images for: Nichijou\n"
     ]
    },
    {
     "name": "stderr",
     "output_type": "stream",
     "text": [
      "AnimeList:  14%|█▍        | 7/50 [08:38<55:11, 77.01s/it]"
     ]
    },
    {
     "name": "stdout",
     "output_type": "stream",
     "text": [
      "Currently scraping image urls for: Bunny Drop\n",
      "Currently downloading images for: Bunny Drop\n"
     ]
    },
    {
     "name": "stderr",
     "output_type": "stream",
     "text": [
      "AnimeList:  16%|█▌        | 8/50 [10:11<57:19, 81.90s/it]"
     ]
    },
    {
     "name": "stdout",
     "output_type": "stream",
     "text": [
      "Currently scraping image urls for: Mob Psycho 100\n",
      "Currently downloading images for: Mob Psycho 100\n"
     ]
    },
    {
     "name": "stderr",
     "output_type": "stream",
     "text": [
      "AnimeList:  18%|█▊        | 9/50 [11:18<52:53, 77.39s/it]"
     ]
    },
    {
     "name": "stdout",
     "output_type": "stream",
     "text": [
      "Currently scraping image urls for: Nana\n",
      "Currently downloading images for: Nana\n"
     ]
    },
    {
     "name": "stderr",
     "output_type": "stream",
     "text": [
      "AnimeList:  20%|██        | 10/50 [12:22<48:43, 73.08s/it]"
     ]
    },
    {
     "name": "stdout",
     "output_type": "stream",
     "text": [
      "Currently scraping image urls for: The Boy and the Beast\n",
      "Currently downloading images for: The Boy and the Beast\n"
     ]
    },
    {
     "name": "stderr",
     "output_type": "stream",
     "text": [
      "AnimeList:  22%|██▏       | 11/50 [13:12<42:57, 66.09s/it]"
     ]
    },
    {
     "name": "stdout",
     "output_type": "stream",
     "text": [
      "Currently scraping image urls for: Cross Game\n",
      "Currently downloading images for: Cross Game\n"
     ]
    },
    {
     "name": "stderr",
     "output_type": "stream",
     "text": [
      "AnimeList:  24%|██▍       | 12/50 [15:11<52:07, 82.30s/it]"
     ]
    },
    {
     "name": "stdout",
     "output_type": "stream",
     "text": [
      "Currently scraping image urls for: Samurai Champloo\n",
      "Currently downloading images for: Samurai Champloo\n"
     ]
    },
    {
     "name": "stderr",
     "output_type": "stream",
     "text": [
      "AnimeList:  26%|██▌       | 13/50 [16:19<48:01, 77.89s/it]"
     ]
    },
    {
     "name": "stdout",
     "output_type": "stream",
     "text": [
      "Currently scraping image urls for: Baccano!\n",
      "Currently downloading images for: Baccano!\n"
     ]
    },
    {
     "name": "stderr",
     "output_type": "stream",
     "text": [
      "AnimeList:  28%|██▊       | 14/50 [17:24<44:22, 73.95s/it]"
     ]
    },
    {
     "name": "stdout",
     "output_type": "stream",
     "text": [
      "Currently scraping image urls for: Attack on Titan\n",
      "Currently downloading images for: Attack on Titan\n"
     ]
    },
    {
     "name": "stderr",
     "output_type": "stream",
     "text": [
      "AnimeList:  30%|███       | 15/50 [18:19<39:46, 68.18s/it]"
     ]
    },
    {
     "name": "stdout",
     "output_type": "stream",
     "text": [
      "Currently scraping image urls for: From the New World\n",
      "Currently downloading images for: From the New World\n"
     ]
    },
    {
     "name": "stderr",
     "output_type": "stream",
     "text": [
      "AnimeList:  32%|███▏      | 16/50 [18:46<31:45, 56.05s/it]"
     ]
    },
    {
     "name": "stdout",
     "output_type": "stream",
     "text": [
      "Currently scraping image urls for: Land of the Lustrous\n",
      "Currently downloading images for: Land of the Lustrous\n"
     ]
    },
    {
     "name": "stderr",
     "output_type": "stream",
     "text": [
      "AnimeList:  34%|███▍      | 17/50 [19:51<32:14, 58.63s/it]"
     ]
    },
    {
     "name": "stdout",
     "output_type": "stream",
     "text": [
      "Currently scraping image urls for: Neon Genesis Evangelion\n",
      "Currently downloading images for: Neon Genesis Evangelion\n"
     ]
    },
    {
     "name": "stderr",
     "output_type": "stream",
     "text": [
      "AnimeList:  36%|███▌      | 18/50 [20:43<30:13, 56.66s/it]"
     ]
    },
    {
     "name": "stdout",
     "output_type": "stream",
     "text": [
      "Currently scraping image urls for: Yu Yu Hakusho\n",
      "Currently downloading images for: Yu Yu Hakusho\n"
     ]
    },
    {
     "name": "stderr",
     "output_type": "stream",
     "text": [
      "AnimeList:  38%|███▊      | 19/50 [21:35<28:36, 55.36s/it]"
     ]
    },
    {
     "name": "stdout",
     "output_type": "stream",
     "text": [
      "Currently scraping image urls for: Barakamon\n",
      "Currently downloading images for: Barakamon\n"
     ]
    },
    {
     "name": "stderr",
     "output_type": "stream",
     "text": [
      "AnimeList:  40%|████      | 20/50 [22:24<26:40, 53.35s/it]"
     ]
    },
    {
     "name": "stdout",
     "output_type": "stream",
     "text": [
      "Currently scraping image urls for: Chihayafuru\n",
      "Currently downloading images for: Chihayafuru\n"
     ]
    },
    {
     "name": "stderr",
     "output_type": "stream",
     "text": [
      "AnimeList:  42%|████▏     | 21/50 [23:15<25:28, 52.72s/it]"
     ]
    },
    {
     "name": "stdout",
     "output_type": "stream",
     "text": [
      "Currently scraping image urls for: Detective Conan\n",
      "Currently downloading images for: Detective Conan\n"
     ]
    },
    {
     "name": "stderr",
     "output_type": "stream",
     "text": [
      "AnimeList:  44%|████▍     | 22/50 [25:03<32:15, 69.12s/it]"
     ]
    },
    {
     "name": "stdout",
     "output_type": "stream",
     "text": [
      "Currently scraping image urls for: Nausicaä of the Valley of the Wind\n",
      "Currently downloading images for: Nausicaä of the Valley of the Wind\n"
     ]
    },
    {
     "name": "stderr",
     "output_type": "stream",
     "text": [
      "AnimeList:  46%|████▌     | 23/50 [25:58<29:14, 64.99s/it]"
     ]
    },
    {
     "name": "stdout",
     "output_type": "stream",
     "text": [
      "Currently scraping image urls for: Natsume Yuujinchou\n",
      "Currently downloading images for: Natsume Yuujinchou\n"
     ]
    },
    {
     "name": "stderr",
     "output_type": "stream",
     "text": [
      "AnimeList:  48%|████▊     | 24/50 [26:59<27:41, 63.90s/it]"
     ]
    },
    {
     "name": "stdout",
     "output_type": "stream",
     "text": [
      "Currently scraping image urls for: Puella Magi Madoka Magica\n",
      "Currently downloading images for: Puella Magi Madoka Magica\n"
     ]
    },
    {
     "name": "stderr",
     "output_type": "stream",
     "text": [
      "AnimeList:  50%|█████     | 25/50 [28:07<27:08, 65.13s/it]"
     ]
    },
    {
     "name": "stdout",
     "output_type": "stream",
     "text": [
      "Currently scraping image urls for: Major World Series\n",
      "Currently downloading images for: Major World Series\n"
     ]
    },
    {
     "name": "stderr",
     "output_type": "stream",
     "text": [
      "AnimeList:  52%|█████▏    | 26/50 [29:21<27:04, 67.69s/it]"
     ]
    },
    {
     "name": "stdout",
     "output_type": "stream",
     "text": [
      "Currently scraping image urls for: Major\n",
      "Currently downloading images for: Major\n"
     ]
    },
    {
     "name": "stderr",
     "output_type": "stream",
     "text": [
      "AnimeList:  54%|█████▍    | 27/50 [30:20<24:59, 65.18s/it]"
     ]
    },
    {
     "name": "stdout",
     "output_type": "stream",
     "text": [
      "Currently scraping image urls for: Mobile Suit Gundam\n",
      "Currently downloading images for: Mobile Suit Gundam\n"
     ]
    },
    {
     "name": "stderr",
     "output_type": "stream",
     "text": [
      "AnimeList:  56%|█████▌    | 28/50 [31:27<24:04, 65.67s/it]"
     ]
    },
    {
     "name": "stdout",
     "output_type": "stream",
     "text": [
      "Currently scraping image urls for: Mononoke\n",
      "Currently downloading images for: Mononoke\n"
     ]
    },
    {
     "name": "stderr",
     "output_type": "stream",
     "text": [
      "AnimeList:  58%|█████▊    | 29/50 [32:22<21:50, 62.40s/it]"
     ]
    },
    {
     "name": "stdout",
     "output_type": "stream",
     "text": [
      "Currently scraping image urls for: Star Blazers 2199\n",
      "Currently downloading images for: Star Blazers 2199\n"
     ]
    },
    {
     "name": "stderr",
     "output_type": "stream",
     "text": [
      "AnimeList:  60%|██████    | 30/50 [33:24<20:47, 62.38s/it]"
     ]
    },
    {
     "name": "stdout",
     "output_type": "stream",
     "text": [
      "Currently scraping image urls for: Berserk\n",
      "Currently downloading images for: Berserk\n"
     ]
    },
    {
     "name": "stderr",
     "output_type": "stream",
     "text": [
      "AnimeList:  62%|██████▏   | 31/50 [34:15<18:39, 58.92s/it]"
     ]
    },
    {
     "name": "stdout",
     "output_type": "stream",
     "text": [
      "Currently scraping image urls for: Romeo and the Black Brothers\n",
      "Currently downloading images for: Romeo and the Black Brothers\n"
     ]
    },
    {
     "name": "stderr",
     "output_type": "stream",
     "text": [
      "AnimeList:  64%|██████▍   | 32/50 [35:24<18:32, 61.82s/it]"
     ]
    },
    {
     "name": "stdout",
     "output_type": "stream",
     "text": [
      "Currently scraping image urls for: Psycho-Pass\n",
      "Currently downloading images for: Psycho-Pass\n"
     ]
    },
    {
     "name": "stderr",
     "output_type": "stream",
     "text": [
      "AnimeList:  66%|██████▌   | 33/50 [36:21<17:06, 60.36s/it]"
     ]
    },
    {
     "name": "stdout",
     "output_type": "stream",
     "text": [
      "Currently scraping image urls for: My Neighbor Totoro\n",
      "Currently downloading images for: My Neighbor Totoro\n"
     ]
    },
    {
     "name": "stderr",
     "output_type": "stream",
     "text": [
      "AnimeList:  68%|██████▊   | 34/50 [37:17<15:45, 59.11s/it]"
     ]
    },
    {
     "name": "stdout",
     "output_type": "stream",
     "text": [
      "Currently scraping image urls for: My Hero Academia\n",
      "Currently downloading images for: My Hero Academia\n"
     ]
    },
    {
     "name": "stderr",
     "output_type": "stream",
     "text": [
      "AnimeList:  70%|███████   | 35/50 [38:17<14:50, 59.37s/it]"
     ]
    },
    {
     "name": "stdout",
     "output_type": "stream",
     "text": [
      "Currently scraping image urls for: FateZero\n",
      "Currently downloading images for: FateZero\n"
     ]
    },
    {
     "name": "stderr",
     "output_type": "stream",
     "text": [
      "AnimeList:  72%|███████▏  | 36/50 [39:15<13:44, 58.87s/it]"
     ]
    },
    {
     "name": "stdout",
     "output_type": "stream",
     "text": [
      "Currently scraping image urls for: Katanagatari\n",
      "Currently downloading images for: Katanagatari\n"
     ]
    },
    {
     "name": "stderr",
     "output_type": "stream",
     "text": [
      "AnimeList:  74%|███████▍  | 37/50 [40:12<12:39, 58.41s/it]"
     ]
    },
    {
     "name": "stdout",
     "output_type": "stream",
     "text": [
      "Currently scraping image urls for: Kino's Journey\n",
      "Currently downloading images for: Kino's Journey\n"
     ]
    },
    {
     "name": "stderr",
     "output_type": "stream",
     "text": [
      "AnimeList:  76%|███████▌  | 38/50 [41:05<11:21, 56.78s/it]"
     ]
    },
    {
     "name": "stdout",
     "output_type": "stream",
     "text": [
      "Currently scraping image urls for: Magi The Kingdom of Magic\n",
      "Currently downloading images for: Magi The Kingdom of Magic\n"
     ]
    },
    {
     "name": "stderr",
     "output_type": "stream",
     "text": [
      "AnimeList:  78%|███████▊  | 39/50 [42:05<10:36, 57.86s/it]"
     ]
    },
    {
     "name": "stdout",
     "output_type": "stream",
     "text": [
      "Currently scraping image urls for: Megalo Box\n",
      "Currently downloading images for: Megalo Box\n"
     ]
    },
    {
     "name": "stderr",
     "output_type": "stream",
     "text": [
      "AnimeList:  80%|████████  | 40/50 [42:56<09:17, 55.78s/it]"
     ]
    },
    {
     "name": "stdout",
     "output_type": "stream",
     "text": [
      "Currently scraping image urls for: Owarimonogatari\n",
      "Currently downloading images for: Owarimonogatari\n"
     ]
    },
    {
     "name": "stderr",
     "output_type": "stream",
     "text": [
      "AnimeList:  82%|████████▏ | 41/50 [44:19<09:36, 64.01s/it]"
     ]
    },
    {
     "name": "stdout",
     "output_type": "stream",
     "text": [
      "Currently scraping image urls for: Kids on the Slope\n",
      "Currently downloading images for: Kids on the Slope\n"
     ]
    },
    {
     "name": "stderr",
     "output_type": "stream",
     "text": [
      "AnimeList:  84%|████████▍ | 42/50 [45:32<08:51, 66.49s/it]"
     ]
    },
    {
     "name": "stdout",
     "output_type": "stream",
     "text": [
      "Currently scraping image urls for: Shirobako\n",
      "Currently downloading images for: Shirobako\n"
     ]
    },
    {
     "name": "stderr",
     "output_type": "stream",
     "text": [
      "AnimeList:  86%|████████▌ | 43/50 [46:58<08:27, 72.50s/it]"
     ]
    },
    {
     "name": "stdout",
     "output_type": "stream",
     "text": [
      "Currently scraping image urls for: March comes in like a lion\n",
      "Currently downloading images for: March comes in like a lion\n"
     ]
    },
    {
     "name": "stderr",
     "output_type": "stream",
     "text": [
      "AnimeList:  88%|████████▊ | 44/50 [48:37<08:01, 80.32s/it]"
     ]
    },
    {
     "name": "stdout",
     "output_type": "stream",
     "text": [
      "Currently scraping image urls for: Erin\n",
      "Currently downloading images for: Erin\n"
     ]
    },
    {
     "name": "stderr",
     "output_type": "stream",
     "text": [
      "AnimeList:  90%|█████████ | 45/50 [50:01<06:48, 81.62s/it]"
     ]
    },
    {
     "name": "stdout",
     "output_type": "stream",
     "text": [
      "Currently scraping image urls for: Spice and Wolf\n",
      "Currently downloading images for: Spice and Wolf\n"
     ]
    },
    {
     "name": "stderr",
     "output_type": "stream",
     "text": [
      "AnimeList:  92%|█████████▏| 46/50 [51:02<05:00, 75.23s/it]"
     ]
    },
    {
     "name": "stdout",
     "output_type": "stream",
     "text": [
      "Currently scraping image urls for: ReZero\n",
      "Currently downloading images for: ReZero\n"
     ]
    },
    {
     "name": "stderr",
     "output_type": "stream",
     "text": [
      "AnimeList:  94%|█████████▍| 47/50 [52:21<03:49, 76.56s/it]"
     ]
    },
    {
     "name": "stdout",
     "output_type": "stream",
     "text": [
      "Currently scraping image urls for: JoJo's Bizarre Adventure\n",
      "Currently downloading images for: JoJo's Bizarre Adventure\n"
     ]
    },
    {
     "name": "stderr",
     "output_type": "stream",
     "text": [
      "AnimeList:  96%|█████████▌| 48/50 [53:30<02:28, 74.15s/it]"
     ]
    },
    {
     "name": "stdout",
     "output_type": "stream",
     "text": [
      "Currently scraping image urls for: Nanatsu no Taizai\n",
      "Currently downloading images for: Nanatsu no Taizai\n"
     ]
    },
    {
     "name": "stderr",
     "output_type": "stream",
     "text": [
      "AnimeList:  98%|█████████▊| 49/50 [54:39<01:12, 72.70s/it]"
     ]
    },
    {
     "name": "stdout",
     "output_type": "stream",
     "text": [
      "Currently scraping image urls for: No Game, No Life\n",
      "Currently downloading images for: No Game, No Life\n"
     ]
    },
    {
     "name": "stderr",
     "output_type": "stream",
     "text": [
      "AnimeList: 100%|██████████| 50/50 [56:06<00:00, 67.32s/it]\n"
     ]
    }
   ],
   "source": [
    "scraper = scrapeAnimeImageURLs(anime_list[50:100])"
   ]
  },
  {
   "cell_type": "code",
   "execution_count": 43,
   "metadata": {},
   "outputs": [
    {
     "name": "stderr",
     "output_type": "stream",
     "text": [
      "AnimeList:   0%|          | 0/50 [00:00<?, ?it/s]"
     ]
    },
    {
     "name": "stdout",
     "output_type": "stream",
     "text": [
      "Currently scraping image urls for: Nodame Cantabile\n",
      "Currently downloading images for: Nodame Cantabile\n"
     ]
    },
    {
     "name": "stderr",
     "output_type": "stream",
     "text": [
      "AnimeList:   2%|▏         | 1/50 [01:30<1:14:00, 90.63s/it]"
     ]
    },
    {
     "name": "stdout",
     "output_type": "stream",
     "text": [
      "Currently scraping image urls for: Noragami Aragoto\n",
      "Currently downloading images for: Noragami Aragoto\n"
     ]
    },
    {
     "name": "stderr",
     "output_type": "stream",
     "text": [
      "AnimeList:   4%|▍         | 2/50 [02:56<1:10:09, 87.70s/it]"
     ]
    },
    {
     "name": "stdout",
     "output_type": "stream",
     "text": [
      "Currently scraping image urls for: Shelter\n",
      "Currently downloading images for: Shelter\n"
     ]
    },
    {
     "name": "stderr",
     "output_type": "stream",
     "text": [
      "AnimeList:   6%|▌         | 3/50 [03:59<59:52, 76.43s/it]  "
     ]
    },
    {
     "name": "stdout",
     "output_type": "stream",
     "text": [
      "Currently scraping image urls for: One Outs\n",
      "Currently downloading images for: One Outs\n"
     ]
    },
    {
     "name": "stderr",
     "output_type": "stream",
     "text": [
      "AnimeList:   8%|▊         | 4/50 [05:07<56:09, 73.24s/it]"
     ]
    },
    {
     "name": "stdout",
     "output_type": "stream",
     "text": [
      "Currently scraping image urls for: Rurouni Kenshin\n",
      "Currently downloading images for: Rurouni Kenshin\n"
     ]
    },
    {
     "name": "stderr",
     "output_type": "stream",
     "text": [
      "AnimeList:  10%|█         | 5/50 [06:14<53:09, 70.87s/it]"
     ]
    },
    {
     "name": "stdout",
     "output_type": "stream",
     "text": [
      "Currently scraping image urls for: Sword of the Stranger\n",
      "Currently downloading images for: Sword of the Stranger\n"
     ]
    },
    {
     "name": "stderr",
     "output_type": "stream",
     "text": [
      "AnimeList:  12%|█▏        | 6/50 [07:14<49:13, 67.13s/it]"
     ]
    },
    {
     "name": "stdout",
     "output_type": "stream",
     "text": [
      "Currently scraping image urls for: Tsuabasa\n",
      "Currently downloading images for: Tsuabasa\n"
     ]
    },
    {
     "name": "stderr",
     "output_type": "stream",
     "text": [
      "AnimeList:  14%|█▍        | 7/50 [08:24<48:51, 68.16s/it]"
     ]
    },
    {
     "name": "stdout",
     "output_type": "stream",
     "text": [
      "Currently scraping image urls for: In This Corner of the World\n",
      "Currently downloading images for: In This Corner of the World\n"
     ]
    },
    {
     "name": "stderr",
     "output_type": "stream",
     "text": [
      "AnimeList:  16%|█▌        | 8/50 [09:25<46:07, 65.90s/it]"
     ]
    },
    {
     "name": "stdout",
     "output_type": "stream",
     "text": [
      "Currently scraping image urls for: Toradora!\n",
      "Currently downloading images for: Toradora!\n"
     ]
    },
    {
     "name": "stderr",
     "output_type": "stream",
     "text": [
      "AnimeList:  18%|█▊        | 9/50 [10:33<45:34, 66.69s/it]"
     ]
    },
    {
     "name": "stdout",
     "output_type": "stream",
     "text": [
      "Currently scraping image urls for: Welcome to the N.H.K.\n",
      "Currently downloading images for: Welcome to the N.H.K.\n"
     ]
    },
    {
     "name": "stderr",
     "output_type": "stream",
     "text": [
      "AnimeList:  20%|██        | 10/50 [11:46<45:35, 68.39s/it]"
     ]
    },
    {
     "name": "stdout",
     "output_type": "stream",
     "text": [
      "Currently scraping image urls for: Castle in the Sky\n",
      "Currently downloading images for: Castle in the Sky\n"
     ]
    },
    {
     "name": "stderr",
     "output_type": "stream",
     "text": [
      "AnimeList:  22%|██▏       | 11/50 [13:11<47:44, 73.44s/it]"
     ]
    },
    {
     "name": "stdout",
     "output_type": "stream",
     "text": [
      "Currently scraping image urls for: The Rose of Versailles\n",
      "Currently downloading images for: The Rose of Versailles\n"
     ]
    },
    {
     "name": "stderr",
     "output_type": "stream",
     "text": [
      "AnimeList:  24%|██▍       | 12/50 [14:41<49:51, 78.73s/it]"
     ]
    },
    {
     "name": "stdout",
     "output_type": "stream",
     "text": [
      "Currently scraping image urls for: Beck Mongolian Chop Squad\n",
      "Currently downloading images for: Beck Mongolian Chop Squad\n"
     ]
    },
    {
     "name": "stderr",
     "output_type": "stream",
     "text": [
      "AnimeList:  26%|██▌       | 13/50 [16:04<49:16, 79.91s/it]"
     ]
    },
    {
     "name": "stdout",
     "output_type": "stream",
     "text": [
      "Currently scraping image urls for: Kuroko's Basketball\n",
      "Currently downloading images for: Kuroko's Basketball\n"
     ]
    },
    {
     "name": "stderr",
     "output_type": "stream",
     "text": [
      "AnimeList:  28%|██▊       | 14/50 [17:20<47:17, 78.82s/it]"
     ]
    },
    {
     "name": "stdout",
     "output_type": "stream",
     "text": [
      "Currently scraping image urls for: KonoSuba\n",
      "Currently downloading images for: KonoSuba\n"
     ]
    },
    {
     "name": "stderr",
     "output_type": "stream",
     "text": [
      "AnimeList:  30%|███       | 15/50 [18:47<47:21, 81.17s/it]"
     ]
    },
    {
     "name": "stdout",
     "output_type": "stream",
     "text": [
      "Currently scraping image urls for: Planetes\n",
      "Currently downloading images for: Planetes\n"
     ]
    },
    {
     "name": "stderr",
     "output_type": "stream",
     "text": [
      "AnimeList:  32%|███▏      | 16/50 [20:03<45:09, 79.71s/it]"
     ]
    },
    {
     "name": "stdout",
     "output_type": "stream",
     "text": [
      "Currently scraping image urls for: Bakemonogatari\n",
      "Currently downloading images for: Bakemonogatari\n"
     ]
    },
    {
     "name": "stderr",
     "output_type": "stream",
     "text": [
      "AnimeList:  34%|███▍      | 17/50 [21:16<42:45, 77.73s/it]"
     ]
    },
    {
     "name": "stdout",
     "output_type": "stream",
     "text": [
      "Currently scraping image urls for: Higurashi When they cry\n",
      "Currently downloading images for: Higurashi When they cry\n"
     ]
    },
    {
     "name": "stderr",
     "output_type": "stream",
     "text": [
      "AnimeList:  36%|███▌      | 18/50 [22:40<42:27, 79.60s/it]"
     ]
    },
    {
     "name": "stdout",
     "output_type": "stream",
     "text": [
      "Currently scraping image urls for: The Girl Who Leapt Through Time\n",
      "Currently downloading images for: The Girl Who Leapt Through Time\n"
     ]
    },
    {
     "name": "stderr",
     "output_type": "stream",
     "text": [
      "AnimeList:  38%|███▊      | 19/50 [23:53<40:05, 77.58s/it]"
     ]
    },
    {
     "name": "stdout",
     "output_type": "stream",
     "text": [
      "Currently scraping image urls for: Laid-Back Camp\n",
      "Currently downloading images for: Laid-Back Camp\n"
     ]
    },
    {
     "name": "stderr",
     "output_type": "stream",
     "text": [
      "AnimeList:  40%|████      | 20/50 [25:18<39:55, 79.85s/it]"
     ]
    },
    {
     "name": "stdout",
     "output_type": "stream",
     "text": [
      "Currently scraping image urls for: Tsukigakirei\n",
      "Currently downloading images for: Tsukigakirei\n"
     ]
    },
    {
     "name": "stderr",
     "output_type": "stream",
     "text": [
      "AnimeList:  42%|████▏     | 21/50 [26:18<35:44, 73.94s/it]"
     ]
    },
    {
     "name": "stdout",
     "output_type": "stream",
     "text": [
      "Currently scraping image urls for: Welcome to the Ballroom\n",
      "Currently downloading images for: Welcome to the Ballroom\n"
     ]
    },
    {
     "name": "stderr",
     "output_type": "stream",
     "text": [
      "AnimeList:  44%|████▍     | 22/50 [27:29<34:02, 72.94s/it]"
     ]
    },
    {
     "name": "stdout",
     "output_type": "stream",
     "text": [
      "Currently scraping image urls for: Daily Lives of High School Boys\n",
      "Currently downloading images for: Daily Lives of High School Boys\n"
     ]
    },
    {
     "name": "stderr",
     "output_type": "stream",
     "text": [
      "AnimeList:  46%|████▌     | 23/50 [28:27<30:46, 68.40s/it]"
     ]
    },
    {
     "name": "stdout",
     "output_type": "stream",
     "text": [
      "Currently scraping image urls for: Fatestay night\n",
      "Currently downloading images for: Fatestay night\n"
     ]
    },
    {
     "name": "stderr",
     "output_type": "stream",
     "text": [
      "AnimeList:  48%|████▊     | 24/50 [29:43<30:40, 70.79s/it]"
     ]
    },
    {
     "name": "stdout",
     "output_type": "stream",
     "text": [
      "Currently scraping image urls for: Honey and Clover\n",
      "Currently downloading images for: Honey and Clover\n"
     ]
    },
    {
     "name": "stderr",
     "output_type": "stream",
     "text": [
      "AnimeList:  50%|█████     | 25/50 [30:39<27:38, 66.33s/it]"
     ]
    },
    {
     "name": "stdout",
     "output_type": "stream",
     "text": [
      "Currently scraping image urls for: Black Butler\n",
      "Currently downloading images for: Black Butler\n"
     ]
    },
    {
     "name": "stderr",
     "output_type": "stream",
     "text": [
      "AnimeList:  52%|█████▏    | 26/50 [31:57<27:51, 69.64s/it]"
     ]
    },
    {
     "name": "stdout",
     "output_type": "stream",
     "text": [
      "Currently scraping image urls for: Ouran High School Host Club\n",
      "Currently downloading images for: Ouran High School Host Club\n"
     ]
    },
    {
     "name": "stderr",
     "output_type": "stream",
     "text": [
      "AnimeList:  54%|█████▍    | 27/50 [33:15<27:44, 72.36s/it]"
     ]
    },
    {
     "name": "stdout",
     "output_type": "stream",
     "text": [
      "Currently scraping image urls for: Night Is Short, Walk on Girl\n",
      "Currently downloading images for: Night Is Short, Walk on Girl\n"
     ]
    },
    {
     "name": "stderr",
     "output_type": "stream",
     "text": [
      "AnimeList:  56%|█████▌    | 28/50 [34:17<25:23, 69.24s/it]"
     ]
    },
    {
     "name": "stdout",
     "output_type": "stream",
     "text": [
      "Currently scraping image urls for: The Pet Girl of Sakurasou\n",
      "Currently downloading images for: The Pet Girl of Sakurasou\n"
     ]
    },
    {
     "name": "stderr",
     "output_type": "stream",
     "text": [
      "AnimeList:  58%|█████▊    | 29/50 [35:38<25:29, 72.83s/it]"
     ]
    },
    {
     "name": "stdout",
     "output_type": "stream",
     "text": [
      "Currently scraping image urls for: Redline\n",
      "Currently downloading images for: Redline\n"
     ]
    },
    {
     "name": "stderr",
     "output_type": "stream",
     "text": [
      "AnimeList:  60%|██████    | 30/50 [36:59<25:05, 75.28s/it]"
     ]
    },
    {
     "name": "stdout",
     "output_type": "stream",
     "text": [
      "Currently scraping image urls for: SKET Dance\n",
      "Currently downloading images for: SKET Dance\n"
     ]
    },
    {
     "name": "stderr",
     "output_type": "stream",
     "text": [
      "AnimeList:  62%|██████▏   | 31/50 [37:53<21:46, 68.76s/it]"
     ]
    },
    {
     "name": "stdout",
     "output_type": "stream",
     "text": [
      "Currently scraping image urls for: Bakuman.\n",
      "Currently downloading images for: Bakuman.\n"
     ]
    },
    {
     "name": "stderr",
     "output_type": "stream",
     "text": [
      "AnimeList:  64%|██████▍   | 32/50 [38:36<18:17, 60.95s/it]"
     ]
    },
    {
     "name": "stdout",
     "output_type": "stream",
     "text": [
      "Currently scraping image urls for: Kaiji Ultimate Survivor\n",
      "Currently downloading images for: Kaiji Ultimate Survivor\n"
     ]
    },
    {
     "name": "stderr",
     "output_type": "stream",
     "text": [
      "AnimeList:  66%|██████▌   | 33/50 [39:12<15:11, 53.64s/it]"
     ]
    },
    {
     "name": "stdout",
     "output_type": "stream",
     "text": [
      "Currently scraping image urls for: InuYasha The Final Act\n",
      "Currently downloading images for: InuYasha The Final Act\n"
     ]
    },
    {
     "name": "stderr",
     "output_type": "stream",
     "text": [
      "AnimeList:  68%|██████▊   | 34/50 [39:52<13:12, 49.52s/it]"
     ]
    },
    {
     "name": "stdout",
     "output_type": "stream",
     "text": [
      "Currently scraping image urls for: The Tale of the Princess Kaguya\n",
      "Currently downloading images for: The Tale of the Princess Kaguya\n"
     ]
    },
    {
     "name": "stderr",
     "output_type": "stream",
     "text": [
      "AnimeList:  70%|███████   | 35/50 [40:23<10:57, 43.82s/it]"
     ]
    },
    {
     "name": "stdout",
     "output_type": "stream",
     "text": [
      "Currently scraping image urls for: Little Busters! ~Refrain~\n",
      "Currently downloading images for: Little Busters! ~Refrain~\n"
     ]
    },
    {
     "name": "stderr",
     "output_type": "stream",
     "text": [
      "AnimeList:  72%|███████▏  | 36/50 [41:02<09:53, 42.36s/it]"
     ]
    },
    {
     "name": "stdout",
     "output_type": "stream",
     "text": [
      "Currently scraping image urls for: Perfect Blue\n",
      "Currently downloading images for: Perfect Blue\n"
     ]
    },
    {
     "name": "stderr",
     "output_type": "stream",
     "text": [
      "AnimeList:  74%|███████▍  | 37/50 [41:45<09:15, 42.72s/it]"
     ]
    },
    {
     "name": "stdout",
     "output_type": "stream",
     "text": [
      "Currently scraping image urls for: Millennium Actress\n",
      "Currently downloading images for: Millennium Actress\n"
     ]
    },
    {
     "name": "stderr",
     "output_type": "stream",
     "text": [
      "AnimeList:  76%|███████▌  | 38/50 [42:22<08:10, 40.89s/it]"
     ]
    },
    {
     "name": "stdout",
     "output_type": "stream",
     "text": [
      "Currently scraping image urls for: Angel Beats!\n",
      "Currently downloading images for: Angel Beats!\n"
     ]
    },
    {
     "name": "stderr",
     "output_type": "stream",
     "text": [
      "AnimeList:  78%|███████▊  | 39/50 [43:12<07:59, 43.60s/it]"
     ]
    },
    {
     "name": "stdout",
     "output_type": "stream",
     "text": [
      "Currently scraping image urls for: Dragon Ball Z\n",
      "Currently downloading images for: Dragon Ball Z\n"
     ]
    },
    {
     "name": "stderr",
     "output_type": "stream",
     "text": [
      "AnimeList:  80%|████████  | 40/50 [43:59<07:28, 44.82s/it]"
     ]
    },
    {
     "name": "stdout",
     "output_type": "stream",
     "text": [
      "Currently scraping image urls for: Initial D\n",
      "Currently downloading images for: Initial D\n"
     ]
    },
    {
     "name": "stderr",
     "output_type": "stream",
     "text": [
      "AnimeList:  82%|████████▏ | 41/50 [44:41<06:33, 43.72s/it]"
     ]
    },
    {
     "name": "stdout",
     "output_type": "stream",
     "text": [
      "Currently scraping image urls for: Reborn!\n",
      "Currently downloading images for: Reborn!\n"
     ]
    },
    {
     "name": "stderr",
     "output_type": "stream",
     "text": [
      "AnimeList:  84%|████████▍ | 42/50 [45:28<05:58, 44.87s/it]"
     ]
    },
    {
     "name": "stdout",
     "output_type": "stream",
     "text": [
      "Currently scraping image urls for: Tokyo Godfathers\n",
      "Currently downloading images for: Tokyo Godfathers\n"
     ]
    },
    {
     "name": "stderr",
     "output_type": "stream",
     "text": [
      "AnimeList:  86%|████████▌ | 43/50 [45:58<04:42, 40.32s/it]"
     ]
    },
    {
     "name": "stdout",
     "output_type": "stream",
     "text": [
      "Currently scraping image urls for: Trigun\n",
      "Currently downloading images for: Trigun\n"
     ]
    },
    {
     "name": "stderr",
     "output_type": "stream",
     "text": [
      "AnimeList:  88%|████████▊ | 44/50 [46:44<04:11, 41.99s/it]"
     ]
    },
    {
     "name": "stdout",
     "output_type": "stream",
     "text": [
      "Currently scraping image urls for: The Ancient Magus' Bride\n",
      "Currently downloading images for: The Ancient Magus' Bride\n"
     ]
    },
    {
     "name": "stderr",
     "output_type": "stream",
     "text": [
      "AnimeList:  90%|█████████ | 45/50 [47:28<03:34, 42.82s/it]"
     ]
    },
    {
     "name": "stdout",
     "output_type": "stream",
     "text": [
      "Currently scraping image urls for: Whisper of the Heart\n",
      "Currently downloading images for: Whisper of the Heart\n"
     ]
    },
    {
     "name": "stderr",
     "output_type": "stream",
     "text": [
      "AnimeList:  92%|█████████▏| 46/50 [48:15<02:55, 43.99s/it]"
     ]
    },
    {
     "name": "stdout",
     "output_type": "stream",
     "text": [
      "Currently scraping image urls for: xxxHOLiC Kei\n",
      "Currently downloading images for: xxxHOLiC Kei\n"
     ]
    },
    {
     "name": "stderr",
     "output_type": "stream",
     "text": [
      "AnimeList:  94%|█████████▍| 47/50 [49:08<02:19, 46.53s/it]"
     ]
    },
    {
     "name": "stdout",
     "output_type": "stream",
     "text": [
      "Currently scraping image urls for: ReLife\n",
      "Currently downloading images for: ReLife\n"
     ]
    },
    {
     "name": "stderr",
     "output_type": "stream",
     "text": [
      "AnimeList:  96%|█████████▌| 48/50 [50:04<01:38, 49.48s/it]"
     ]
    },
    {
     "name": "stdout",
     "output_type": "stream",
     "text": [
      "Currently scraping image urls for: Tomorrow's Joe\n",
      "Currently downloading images for: Tomorrow's Joe\n"
     ]
    },
    {
     "name": "stderr",
     "output_type": "stream",
     "text": [
      "AnimeList:  98%|█████████▊| 49/50 [50:50<00:48, 48.49s/it]"
     ]
    },
    {
     "name": "stdout",
     "output_type": "stream",
     "text": [
      "Currently scraping image urls for: Durarara!!\n",
      "Currently downloading images for: Durarara!!\n"
     ]
    },
    {
     "name": "stderr",
     "output_type": "stream",
     "text": [
      "AnimeList: 100%|██████████| 50/50 [51:39<00:00, 61.98s/it]\n"
     ]
    }
   ],
   "source": [
    "scraper = scrapeAnimeImageURLs(anime_list[100:150])"
   ]
  },
  {
   "cell_type": "code",
   "execution_count": 44,
   "metadata": {},
   "outputs": [
    {
     "name": "stderr",
     "output_type": "stream",
     "text": [
      "AnimeList:   0%|          | 0/50 [00:00<?, ?it/s]"
     ]
    },
    {
     "name": "stdout",
     "output_type": "stream",
     "text": [
      "Currently scraping image urls for: Sound! Euphonium\n",
      "Currently downloading images for: Sound! Euphonium\n"
     ]
    },
    {
     "name": "stderr",
     "output_type": "stream",
     "text": [
      "AnimeList:   2%|▏         | 1/50 [01:00<49:16, 60.35s/it]"
     ]
    },
    {
     "name": "stdout",
     "output_type": "stream",
     "text": [
      "Currently scraping image urls for: Kiki's Delivery Service\n",
      "Currently downloading images for: Kiki's Delivery Service\n"
     ]
    },
    {
     "name": "stderr",
     "output_type": "stream",
     "text": [
      "AnimeList:   4%|▍         | 2/50 [01:58<47:07, 58.91s/it]"
     ]
    },
    {
     "name": "stdout",
     "output_type": "stream",
     "text": [
      "Currently scraping image urls for: The Seven Deadly Sins\n",
      "Currently downloading images for: The Seven Deadly Sins\n"
     ]
    },
    {
     "name": "stderr",
     "output_type": "stream",
     "text": [
      "AnimeList:   6%|▌         | 3/50 [02:56<45:46, 58.43s/it]"
     ]
    },
    {
     "name": "stdout",
     "output_type": "stream",
     "text": [
      "Currently scraping image urls for: Sain Seiya\n",
      "Currently downloading images for: Sain Seiya\n"
     ]
    },
    {
     "name": "stderr",
     "output_type": "stream",
     "text": [
      "AnimeList:   8%|▊         | 4/50 [03:48<42:54, 55.97s/it]"
     ]
    },
    {
     "name": "stdout",
     "output_type": "stream",
     "text": [
      "Currently scraping image urls for: Working!!! Lord of the Takanashi\n",
      "Currently downloading images for: Working!!! Lord of the Takanashi\n"
     ]
    },
    {
     "name": "stderr",
     "output_type": "stream",
     "text": [
      "AnimeList:  10%|█         | 5/50 [04:18<34:56, 46.59s/it]"
     ]
    },
    {
     "name": "stdout",
     "output_type": "stream",
     "text": [
      "Currently scraping image urls for: My Teen Romantic Comedy\n",
      "Currently downloading images for: My Teen Romantic Comedy\n"
     ]
    },
    {
     "name": "stderr",
     "output_type": "stream",
     "text": [
      "AnimeList:  12%|█▏        | 6/50 [05:04<34:05, 46.49s/it]"
     ]
    },
    {
     "name": "stdout",
     "output_type": "stream",
     "text": [
      "Currently scraping image urls for: When Marnie Was There\n",
      "Currently downloading images for: When Marnie Was There\n"
     ]
    },
    {
     "name": "stderr",
     "output_type": "stream",
     "text": [
      "AnimeList:  14%|█▍        | 7/50 [05:48<32:36, 45.51s/it]"
     ]
    },
    {
     "name": "stdout",
     "output_type": "stream",
     "text": [
      "Currently scraping image urls for: Black Lagoon\n",
      "Currently downloading images for: Black Lagoon\n"
     ]
    },
    {
     "name": "stderr",
     "output_type": "stream",
     "text": [
      "AnimeList:  16%|█▌        | 8/50 [06:48<35:15, 50.36s/it]"
     ]
    },
    {
     "name": "stdout",
     "output_type": "stream",
     "text": [
      "Currently scraping image urls for: Death Parade\n",
      "Currently downloading images for: Death Parade\n"
     ]
    },
    {
     "name": "stderr",
     "output_type": "stream",
     "text": [
      "AnimeList:  18%|█▊        | 9/50 [07:58<38:37, 56.52s/it]"
     ]
    },
    {
     "name": "stdout",
     "output_type": "stream",
     "text": [
      "Currently scraping image urls for: The Garden of Words\n",
      "Currently downloading images for: The Garden of Words\n"
     ]
    },
    {
     "name": "stderr",
     "output_type": "stream",
     "text": [
      "AnimeList:  20%|██        | 10/50 [08:50<36:43, 55.08s/it]"
     ]
    },
    {
     "name": "stdout",
     "output_type": "stream",
     "text": [
      "Currently scraping image urls for: Aria The Natural\n",
      "Currently downloading images for: Aria The Natural\n"
     ]
    },
    {
     "name": "stderr",
     "output_type": "stream",
     "text": [
      "AnimeList:  22%|██▏       | 11/50 [09:51<36:55, 56.81s/it]"
     ]
    },
    {
     "name": "stdout",
     "output_type": "stream",
     "text": [
      "Currently scraping image urls for: Girls und Panzer\n",
      "Currently downloading images for: Girls und Panzer\n"
     ]
    },
    {
     "name": "stderr",
     "output_type": "stream",
     "text": [
      "AnimeList:  24%|██▍       | 12/50 [10:43<35:07, 55.47s/it]"
     ]
    },
    {
     "name": "stdout",
     "output_type": "stream",
     "text": [
      "Currently scraping image urls for: Kaiba\n",
      "Currently downloading images for: Kaiba\n"
     ]
    },
    {
     "name": "stderr",
     "output_type": "stream",
     "text": [
      "AnimeList:  26%|██▌       | 13/50 [11:35<33:34, 54.44s/it]"
     ]
    },
    {
     "name": "stdout",
     "output_type": "stream",
     "text": [
      "Currently scraping image urls for: Maison Ikkoku\n",
      "Currently downloading images for: Maison Ikkoku\n"
     ]
    },
    {
     "name": "stderr",
     "output_type": "stream",
     "text": [
      "AnimeList:  28%|██▊       | 14/50 [12:22<31:09, 51.94s/it]"
     ]
    },
    {
     "name": "stdout",
     "output_type": "stream",
     "text": [
      "Currently scraping image urls for: A Lull in the Sea\n",
      "Currently downloading images for: A Lull in the Sea\n"
     ]
    },
    {
     "name": "stderr",
     "output_type": "stream",
     "text": [
      "AnimeList:  30%|███       | 15/50 [13:10<29:43, 50.97s/it]"
     ]
    },
    {
     "name": "stdout",
     "output_type": "stream",
     "text": [
      "Currently scraping image urls for: Skip Beat!\n",
      "Currently downloading images for: Skip Beat!\n"
     ]
    },
    {
     "name": "stderr",
     "output_type": "stream",
     "text": [
      "AnimeList:  32%|███▏      | 16/50 [14:16<31:25, 55.46s/it]"
     ]
    },
    {
     "name": "stdout",
     "output_type": "stream",
     "text": [
      "Currently scraping image urls for: Yowamushi Pedal\n",
      "Currently downloading images for: Yowamushi Pedal\n"
     ]
    },
    {
     "name": "stderr",
     "output_type": "stream",
     "text": [
      "AnimeList:  34%|███▍      | 17/50 [15:27<33:04, 60.13s/it]"
     ]
    },
    {
     "name": "stdout",
     "output_type": "stream",
     "text": [
      "Currently scraping image urls for: Carpcaptor Sakura\n",
      "Currently downloading images for: Carpcaptor Sakura\n"
     ]
    },
    {
     "name": "stderr",
     "output_type": "stream",
     "text": [
      "AnimeList:  36%|███▌      | 18/50 [16:54<36:19, 68.11s/it]"
     ]
    },
    {
     "name": "stdout",
     "output_type": "stream",
     "text": [
      "Currently scraping image urls for: Non Non Biyori Repeat\n",
      "Currently downloading images for: Non Non Biyori Repeat\n"
     ]
    },
    {
     "name": "stderr",
     "output_type": "stream",
     "text": [
      "AnimeList:  38%|███▊      | 19/50 [18:14<37:06, 71.82s/it]"
     ]
    },
    {
     "name": "stdout",
     "output_type": "stream",
     "text": [
      "Currently scraping image urls for: Sekai Ichi Hatsukoi\n",
      "Currently downloading images for: Sekai Ichi Hatsukoi\n"
     ]
    },
    {
     "name": "stderr",
     "output_type": "stream",
     "text": [
      "AnimeList:  40%|████      | 20/50 [18:59<31:47, 63.59s/it]"
     ]
    },
    {
     "name": "stdout",
     "output_type": "stream",
     "text": [
      "Currently scraping image urls for: Assassination Classroom\n",
      "Currently downloading images for: Assassination Classroom\n"
     ]
    },
    {
     "name": "stderr",
     "output_type": "stream",
     "text": [
      "AnimeList:  42%|████▏     | 21/50 [19:44<28:08, 58.23s/it]"
     ]
    },
    {
     "name": "stdout",
     "output_type": "stream",
     "text": [
      "Currently scraping image urls for: Detroit Metal City The Animated Series\n",
      "Currently downloading images for: Detroit Metal City The Animated Series\n"
     ]
    },
    {
     "name": "stderr",
     "output_type": "stream",
     "text": [
      "AnimeList:  44%|████▍     | 22/50 [20:10<22:37, 48.50s/it]"
     ]
    },
    {
     "name": "stdout",
     "output_type": "stream",
     "text": [
      "Currently scraping image urls for: The World God Only Knows\n",
      "Currently downloading images for: The World God Only Knows\n"
     ]
    },
    {
     "name": "stderr",
     "output_type": "stream",
     "text": [
      "AnimeList:  46%|████▌     | 23/50 [20:54<21:09, 47.03s/it]"
     ]
    },
    {
     "name": "stdout",
     "output_type": "stream",
     "text": [
      "Currently scraping image urls for: Sayonara no Asa ni Yakusoku no Hana wo Kazarou\n",
      "Currently downloading images for: Sayonara no Asa ni Yakusoku no Hana wo Kazarou\n"
     ]
    },
    {
     "name": "stderr",
     "output_type": "stream",
     "text": [
      "AnimeList:  48%|████▊     | 24/50 [21:33<19:22, 44.71s/it]"
     ]
    },
    {
     "name": "stdout",
     "output_type": "stream",
     "text": [
      "Currently scraping image urls for: History's strongest disciple Kenichi\n",
      "Currently downloading images for: History's strongest disciple Kenichi\n"
     ]
    },
    {
     "name": "stderr",
     "output_type": "stream",
     "text": [
      "AnimeList:  50%|█████     | 25/50 [22:26<19:39, 47.19s/it]"
     ]
    },
    {
     "name": "stdout",
     "output_type": "stream",
     "text": [
      "Currently scraping image urls for: Summer Wars\n",
      "Currently downloading images for: Summer Wars\n"
     ]
    },
    {
     "name": "stderr",
     "output_type": "stream",
     "text": [
      "AnimeList:  52%|█████▏    | 26/50 [23:15<19:07, 47.82s/it]"
     ]
    },
    {
     "name": "stdout",
     "output_type": "stream",
     "text": [
      "Currently scraping image urls for: The Eccentric Family\n",
      "Currently downloading images for: The Eccentric Family\n"
     ]
    },
    {
     "name": "stderr",
     "output_type": "stream",
     "text": [
      "AnimeList:  54%|█████▍    | 27/50 [24:01<18:06, 47.25s/it]"
     ]
    },
    {
     "name": "stdout",
     "output_type": "stream",
     "text": [
      "Currently scraping image urls for: Cardcaptor Sakura\n",
      "Currently downloading images for: Cardcaptor Sakura\n"
     ]
    },
    {
     "name": "stderr",
     "output_type": "stream",
     "text": [
      "AnimeList:  56%|█████▌    | 28/50 [24:42<16:35, 45.27s/it]"
     ]
    },
    {
     "name": "stdout",
     "output_type": "stream",
     "text": [
      "Currently scraping image urls for: Darker than Black\n",
      "Currently downloading images for: Darker than Black\n"
     ]
    },
    {
     "name": "stderr",
     "output_type": "stream",
     "text": [
      "AnimeList:  58%|█████▊    | 29/50 [25:25<15:35, 44.55s/it]"
     ]
    },
    {
     "name": "stdout",
     "output_type": "stream",
     "text": [
      "Currently scraping image urls for: Gankutsuou The Count of Monte Cristo\n",
      "Currently downloading images for: Gankutsuou The Count of Monte Cristo\n"
     ]
    },
    {
     "name": "stderr",
     "output_type": "stream",
     "text": [
      "AnimeList:  60%|██████    | 30/50 [26:15<15:23, 46.19s/it]"
     ]
    },
    {
     "name": "stdout",
     "output_type": "stream",
     "text": [
      "Currently scraping image urls for: Princess Jellyfish\n",
      "Currently downloading images for: Princess Jellyfish\n"
     ]
    },
    {
     "name": "stderr",
     "output_type": "stream",
     "text": [
      "AnimeList:  62%|██████▏   | 31/50 [27:04<14:55, 47.14s/it]"
     ]
    },
    {
     "name": "stdout",
     "output_type": "stream",
     "text": [
      "Currently scraping image urls for: Magi The Labyrinth of Magic\n",
      "Currently downloading images for: Magi The Labyrinth of Magic\n"
     ]
    },
    {
     "name": "stderr",
     "output_type": "stream",
     "text": [
      "AnimeList:  64%|██████▍   | 32/50 [28:04<15:19, 51.06s/it]"
     ]
    },
    {
     "name": "stdout",
     "output_type": "stream",
     "text": [
      "Currently scraping image urls for: Princess Tutu\n",
      "Currently downloading images for: Princess Tutu\n"
     ]
    },
    {
     "name": "stderr",
     "output_type": "stream",
     "text": [
      "AnimeList:  66%|██████▌   | 33/50 [28:53<14:14, 50.27s/it]"
     ]
    },
    {
     "name": "stdout",
     "output_type": "stream",
     "text": [
      "Currently scraping image urls for: Moribito - Guardian of the Spirit\n",
      "Currently downloading images for: Moribito - Guardian of the Spirit\n"
     ]
    },
    {
     "name": "stderr",
     "output_type": "stream",
     "text": [
      "AnimeList:  68%|██████▊   | 34/50 [29:52<14:04, 52.78s/it]"
     ]
    },
    {
     "name": "stdout",
     "output_type": "stream",
     "text": [
      "Currently scraping image urls for: Revolutionary Girl Utena\n",
      "Currently downloading images for: Revolutionary Girl Utena\n"
     ]
    },
    {
     "name": "stderr",
     "output_type": "stream",
     "text": [
      "AnimeList:  70%|███████   | 35/50 [30:45<13:12, 52.84s/it]"
     ]
    },
    {
     "name": "stdout",
     "output_type": "stream",
     "text": [
      "Currently scraping image urls for: Terror in Resonance\n",
      "Currently downloading images for: Terror in Resonance\n"
     ]
    },
    {
     "name": "stderr",
     "output_type": "stream",
     "text": [
      "AnimeList:  72%|███████▏  | 36/50 [31:33<12:00, 51.49s/it]"
     ]
    },
    {
     "name": "stdout",
     "output_type": "stream",
     "text": [
      "Currently scraping image urls for: Ace of Diamond\n",
      "Currently downloading images for: Ace of Diamond\n"
     ]
    },
    {
     "name": "stderr",
     "output_type": "stream",
     "text": [
      "AnimeList:  74%|███████▍  | 37/50 [32:23<11:05, 51.17s/it]"
     ]
    },
    {
     "name": "stdout",
     "output_type": "stream",
     "text": [
      "Currently scraping image urls for: Fighting Spirit Special\n",
      "Currently downloading images for: Fighting Spirit Special\n"
     ]
    },
    {
     "name": "stderr",
     "output_type": "stream",
     "text": [
      "AnimeList:  76%|███████▌  | 38/50 [33:00<09:21, 46.82s/it]"
     ]
    },
    {
     "name": "stdout",
     "output_type": "stream",
     "text": [
      "Currently scraping image urls for: Maid Sama!\n",
      "Currently downloading images for: Maid Sama!\n"
     ]
    },
    {
     "name": "stderr",
     "output_type": "stream",
     "text": [
      "AnimeList:  78%|███████▊  | 39/50 [33:53<08:55, 48.64s/it]"
     ]
    },
    {
     "name": "stdout",
     "output_type": "stream",
     "text": [
      "Currently scraping image urls for: Kamisama Hajimemashita Kamisama, Shiawase ni Naru\n",
      "Currently downloading images for: Kamisama Hajimemashita Kamisama, Shiawase ni Naru\n"
     ]
    },
    {
     "name": "stderr",
     "output_type": "stream",
     "text": [
      "AnimeList:  80%|████████  | 40/50 [34:41<08:05, 48.54s/it]"
     ]
    },
    {
     "name": "stdout",
     "output_type": "stream",
     "text": [
      "Currently scraping image urls for: Kingdom\n",
      "Currently downloading images for: Kingdom\n"
     ]
    },
    {
     "name": "stderr",
     "output_type": "stream",
     "text": [
      "AnimeList:  82%|████████▏ | 41/50 [35:34<07:28, 49.80s/it]"
     ]
    },
    {
     "name": "stdout",
     "output_type": "stream",
     "text": [
      "Currently scraping image urls for: Nisemonogatari\n",
      "Currently downloading images for: Nisemonogatari\n"
     ]
    },
    {
     "name": "stderr",
     "output_type": "stream",
     "text": [
      "AnimeList:  84%|████████▍ | 42/50 [36:29<06:52, 51.53s/it]"
     ]
    },
    {
     "name": "stdout",
     "output_type": "stream",
     "text": [
      "Currently scraping image urls for: Saint Seiya\n",
      "Currently downloading images for: Saint Seiya\n"
     ]
    },
    {
     "name": "stderr",
     "output_type": "stream",
     "text": [
      "AnimeList:  86%|████████▌ | 43/50 [37:17<05:52, 50.31s/it]"
     ]
    },
    {
     "name": "stdout",
     "output_type": "stream",
     "text": [
      "Currently scraping image urls for: Yona of the Dawn\n",
      "Currently downloading images for: Yona of the Dawn\n"
     ]
    },
    {
     "name": "stderr",
     "output_type": "stream",
     "text": [
      "AnimeList:  88%|████████▊ | 44/50 [38:13<05:11, 51.92s/it]"
     ]
    },
    {
     "name": "stdout",
     "output_type": "stream",
     "text": [
      "Currently scraping image urls for: Durarara\n",
      "Currently downloading images for: Durarara\n"
     ]
    },
    {
     "name": "stderr",
     "output_type": "stream",
     "text": [
      "AnimeList:  90%|█████████ | 45/50 [39:07<04:23, 52.69s/it]"
     ]
    },
    {
     "name": "stdout",
     "output_type": "stream",
     "text": [
      "Currently scraping image urls for: Time of Eve\n",
      "Currently downloading images for: Time of Eve\n"
     ]
    },
    {
     "name": "stderr",
     "output_type": "stream",
     "text": [
      "AnimeList:  92%|█████████▏| 46/50 [39:51<03:19, 49.96s/it]"
     ]
    },
    {
     "name": "stdout",
     "output_type": "stream",
     "text": [
      "Currently scraping image urls for: Gosick\n",
      "Currently downloading images for: Gosick\n"
     ]
    },
    {
     "name": "stderr",
     "output_type": "stream",
     "text": [
      "AnimeList:  94%|█████████▍| 47/50 [40:45<02:33, 51.24s/it]"
     ]
    },
    {
     "name": "stdout",
     "output_type": "stream",
     "text": [
      "Currently scraping image urls for: KILL la KILL\n",
      "Currently downloading images for: KILL la KILL\n"
     ]
    },
    {
     "name": "stderr",
     "output_type": "stream",
     "text": [
      "AnimeList:  96%|█████████▌| 48/50 [41:37<01:43, 51.55s/it]"
     ]
    },
    {
     "name": "stdout",
     "output_type": "stream",
     "text": [
      "Currently scraping image urls for: Miss Kobayashi's Dragon Maid\n",
      "Currently downloading images for: Miss Kobayashi's Dragon Maid\n"
     ]
    },
    {
     "name": "stderr",
     "output_type": "stream",
     "text": [
      "AnimeList:  98%|█████████▊| 49/50 [42:29<00:51, 51.62s/it]"
     ]
    },
    {
     "name": "stdout",
     "output_type": "stream",
     "text": [
      "Currently scraping image urls for: Girls' Last Tour\n",
      "Currently downloading images for: Girls' Last Tour\n"
     ]
    },
    {
     "name": "stderr",
     "output_type": "stream",
     "text": [
      "AnimeList: 100%|██████████| 50/50 [43:21<00:00, 52.04s/it]\n"
     ]
    }
   ],
   "source": [
    "scraper = scrapeAnimeImageURLs(anime_list[150:200])"
   ]
  },
  {
   "cell_type": "code",
   "execution_count": 45,
   "metadata": {},
   "outputs": [
    {
     "name": "stderr",
     "output_type": "stream",
     "text": [
      "AnimeList:   0%|          | 0/33 [00:00<?, ?it/s]"
     ]
    },
    {
     "name": "stdout",
     "output_type": "stream",
     "text": [
      "Currently scraping image urls for: Tsukimonogatari\n",
      "Currently downloading images for: Tsukimonogatari\n"
     ]
    },
    {
     "name": "stderr",
     "output_type": "stream",
     "text": [
      "AnimeList:   3%|▎         | 1/33 [00:58<31:18, 58.69s/it]"
     ]
    },
    {
     "name": "stdout",
     "output_type": "stream",
     "text": [
      "Currently scraping image urls for: La Maison en Petits Cubes\n",
      "Currently downloading images for: La Maison en Petits Cubes\n"
     ]
    },
    {
     "name": "stderr",
     "output_type": "stream",
     "text": [
      "AnimeList:   6%|▌         | 2/33 [01:38<24:43, 47.85s/it]"
     ]
    },
    {
     "name": "stdout",
     "output_type": "stream",
     "text": [
      "Currently scraping image urls for: My Teen Romantic Comedy SNAFU\n",
      "Currently downloading images for: My Teen Romantic Comedy SNAFU\n"
     ]
    },
    {
     "name": "stderr",
     "output_type": "stream",
     "text": [
      "AnimeList:   9%|▉         | 3/33 [02:20<22:35, 45.18s/it]"
     ]
    },
    {
     "name": "stdout",
     "output_type": "stream",
     "text": [
      "Currently scraping image urls for: Glass Mask\n",
      "Currently downloading images for: Glass Mask\n"
     ]
    },
    {
     "name": "stderr",
     "output_type": "stream",
     "text": [
      "AnimeList:  12%|█▏        | 4/33 [03:09<22:30, 46.58s/it]"
     ]
    },
    {
     "name": "stdout",
     "output_type": "stream",
     "text": [
      "Currently scraping image urls for: The Anthem of the Heart\n",
      "Currently downloading images for: The Anthem of the Heart\n"
     ]
    },
    {
     "name": "stderr",
     "output_type": "stream",
     "text": [
      "AnimeList:  15%|█▌        | 5/33 [03:45<20:00, 42.86s/it]"
     ]
    },
    {
     "name": "stdout",
     "output_type": "stream",
     "text": [
      "Currently scraping image urls for: Lovely Complex\n",
      "Currently downloading images for: Lovely Complex\n"
     ]
    },
    {
     "name": "stderr",
     "output_type": "stream",
     "text": [
      "AnimeList:  18%|█▊        | 6/33 [04:33<19:56, 44.31s/it]"
     ]
    },
    {
     "name": "stdout",
     "output_type": "stream",
     "text": [
      "Currently scraping image urls for: Mr. Osomatsu\n",
      "Currently downloading images for: Mr. Osomatsu\n"
     ]
    },
    {
     "name": "stderr",
     "output_type": "stream",
     "text": [
      "AnimeList:  21%|██        | 7/33 [05:25<20:24, 47.11s/it]"
     ]
    },
    {
     "name": "stdout",
     "output_type": "stream",
     "text": [
      "Currently scraping image urls for: Naruto\n",
      "Currently downloading images for: Naruto\n"
     ]
    },
    {
     "name": "stderr",
     "output_type": "stream",
     "text": [
      "AnimeList:  24%|██▍       | 8/33 [06:08<19:02, 45.68s/it]"
     ]
    },
    {
     "name": "stdout",
     "output_type": "stream",
     "text": [
      "Currently scraping image urls for: Yuri!!! On ICE\n",
      "Currently downloading images for: Yuri!!! On ICE\n"
     ]
    },
    {
     "name": "stderr",
     "output_type": "stream",
     "text": [
      "AnimeList:  27%|██▋       | 9/33 [07:02<19:14, 48.11s/it]"
     ]
    },
    {
     "name": "stdout",
     "output_type": "stream",
     "text": [
      "Currently scraping image urls for: Yuuki Yuuna wa Yuusha de Aru Washio Sumi no Shou 2 - Tamashii\n",
      "Currently downloading images for: Yuuki Yuuna wa Yuusha de Aru Washio Sumi no Shou 2 - Tamashii\n"
     ]
    },
    {
     "name": "stderr",
     "output_type": "stream",
     "text": [
      "AnimeList:  30%|███       | 10/33 [07:40<17:15, 45.03s/it]"
     ]
    },
    {
     "name": "stdout",
     "output_type": "stream",
     "text": [
      "Currently scraping image urls for: DARLING in the FRANXX\n",
      "Currently downloading images for: DARLING in the FRANXX\n"
     ]
    },
    {
     "name": "stderr",
     "output_type": "stream",
     "text": [
      "AnimeList:  33%|███▎      | 11/33 [08:34<17:34, 47.93s/it]"
     ]
    },
    {
     "name": "stdout",
     "output_type": "stream",
     "text": [
      "Currently scraping image urls for: Hikaru no Go\n",
      "Currently downloading images for: Hikaru no Go\n"
     ]
    },
    {
     "name": "stderr",
     "output_type": "stream",
     "text": [
      "AnimeList:  36%|███▋      | 12/33 [09:33<17:58, 51.35s/it]"
     ]
    },
    {
     "name": "stdout",
     "output_type": "stream",
     "text": [
      "Currently scraping image urls for: Interstella5555 The 5tory of The 5ecret 5tar 5ystem\n",
      "Currently downloading images for: Interstella5555 The 5tory of The 5ecret 5tar 5ystem\n"
     ]
    },
    {
     "name": "stderr",
     "output_type": "stream",
     "text": [
      "AnimeList:  39%|███▉      | 13/33 [10:24<17:01, 51.10s/it]"
     ]
    },
    {
     "name": "stdout",
     "output_type": "stream",
     "text": [
      "Currently scraping image urls for: AKIRA\n",
      "Currently downloading images for: AKIRA\n"
     ]
    },
    {
     "name": "stderr",
     "output_type": "stream",
     "text": [
      "AnimeList:  42%|████▏     | 14/33 [11:16<16:16, 51.40s/it]"
     ]
    },
    {
     "name": "stdout",
     "output_type": "stream",
     "text": [
      "Currently scraping image urls for: Patema Inverted\n",
      "Currently downloading images for: Patema Inverted\n"
     ]
    },
    {
     "name": "stderr",
     "output_type": "stream",
     "text": [
      "AnimeList:  45%|████▌     | 15/33 [11:58<14:32, 48.46s/it]"
     ]
    },
    {
     "name": "stdout",
     "output_type": "stream",
     "text": [
      "Currently scraping image urls for: D.Gray-man\n",
      "Currently downloading images for: D.Gray-man\n"
     ]
    },
    {
     "name": "stderr",
     "output_type": "stream",
     "text": [
      "AnimeList:  48%|████▊     | 16/33 [12:50<14:03, 49.63s/it]"
     ]
    },
    {
     "name": "stdout",
     "output_type": "stream",
     "text": [
      "Currently scraping image urls for: Full Metal Panic\n",
      "Currently downloading images for: Full Metal Panic\n"
     ]
    },
    {
     "name": "stderr",
     "output_type": "stream",
     "text": [
      "AnimeList:  52%|█████▏    | 17/33 [13:46<13:46, 51.68s/it]"
     ]
    },
    {
     "name": "stdout",
     "output_type": "stream",
     "text": [
      "Currently scraping image urls for: Silver Spoon\n",
      "Currently downloading images for: Silver Spoon\n"
     ]
    },
    {
     "name": "stderr",
     "output_type": "stream",
     "text": [
      "AnimeList:  55%|█████▍    | 18/33 [14:48<13:39, 54.61s/it]"
     ]
    },
    {
     "name": "stdout",
     "output_type": "stream",
     "text": [
      "Currently scraping image urls for: Tokyo Magnitude 8.0\n",
      "Currently downloading images for: Tokyo Magnitude 8.0\n"
     ]
    },
    {
     "name": "stderr",
     "output_type": "stream",
     "text": [
      "AnimeList:  58%|█████▊    | 19/33 [15:45<12:55, 55.36s/it]"
     ]
    },
    {
     "name": "stdout",
     "output_type": "stream",
     "text": [
      "Currently scraping image urls for: Akatsuki no Yona\n",
      "Currently downloading images for: Akatsuki no Yona\n"
     ]
    },
    {
     "name": "stderr",
     "output_type": "stream",
     "text": [
      "AnimeList:  61%|██████    | 20/33 [16:38<11:50, 54.68s/it]"
     ]
    },
    {
     "name": "stdout",
     "output_type": "stream",
     "text": [
      "Currently scraping image urls for: Den-noh Coil\n",
      "Currently downloading images for: Den-noh Coil\n"
     ]
    },
    {
     "name": "stderr",
     "output_type": "stream",
     "text": [
      "AnimeList:  64%|██████▎   | 21/33 [17:38<11:16, 56.36s/it]"
     ]
    },
    {
     "name": "stdout",
     "output_type": "stream",
     "text": [
      "Currently scraping image urls for: Dragon Ball\n",
      "Currently downloading images for: Dragon Ball\n"
     ]
    },
    {
     "name": "stderr",
     "output_type": "stream",
     "text": [
      "AnimeList:  67%|██████▋   | 22/33 [18:22<09:37, 52.53s/it]"
     ]
    },
    {
     "name": "stdout",
     "output_type": "stream",
     "text": [
      "Currently scraping image urls for: Eureka Seven\n",
      "Currently downloading images for: Eureka Seven\n"
     ]
    },
    {
     "name": "stderr",
     "output_type": "stream",
     "text": [
      "AnimeList:  70%|██████▉   | 23/33 [19:18<08:56, 53.67s/it]"
     ]
    },
    {
     "name": "stdout",
     "output_type": "stream",
     "text": [
      "Currently scraping image urls for: Monthly Girls' Nozaki-kun\n",
      "Currently downloading images for: Monthly Girls' Nozaki-kun\n"
     ]
    },
    {
     "name": "stderr",
     "output_type": "stream",
     "text": [
      "AnimeList:  73%|███████▎  | 24/33 [20:04<07:41, 51.29s/it]"
     ]
    },
    {
     "name": "stdout",
     "output_type": "stream",
     "text": [
      "Currently scraping image urls for: Hyouka\n",
      "Currently downloading images for: Hyouka\n"
     ]
    },
    {
     "name": "stderr",
     "output_type": "stream",
     "text": [
      "AnimeList:  76%|███████▌  | 25/33 [20:58<06:56, 52.12s/it]"
     ]
    },
    {
     "name": "stdout",
     "output_type": "stream",
     "text": [
      "Currently scraping image urls for: Junjo Romantica\n",
      "Currently downloading images for: Junjo Romantica\n"
     ]
    },
    {
     "name": "stderr",
     "output_type": "stream",
     "text": [
      "AnimeList:  79%|███████▉  | 26/33 [22:01<06:26, 55.23s/it]"
     ]
    },
    {
     "name": "stdout",
     "output_type": "stream",
     "text": [
      "Currently scraping image urls for: Kodocha\n",
      "Currently downloading images for: Kodocha\n"
     ]
    },
    {
     "name": "stderr",
     "output_type": "stream",
     "text": [
      "AnimeList:  82%|████████▏ | 27/33 [22:58<05:35, 55.92s/it]"
     ]
    },
    {
     "name": "stdout",
     "output_type": "stream",
     "text": [
      "Currently scraping image urls for: Noragami\n",
      "Currently downloading images for: Noragami\n"
     ]
    },
    {
     "name": "stderr",
     "output_type": "stream",
     "text": [
      "AnimeList:  85%|████████▍ | 28/33 [23:52<04:36, 55.24s/it]"
     ]
    },
    {
     "name": "stdout",
     "output_type": "stream",
     "text": [
      "Currently scraping image urls for: xxxHOLiC\n",
      "Currently downloading images for: xxxHOLiC\n"
     ]
    },
    {
     "name": "stderr",
     "output_type": "stream",
     "text": [
      "AnimeList:  88%|████████▊ | 29/33 [24:55<03:50, 57.65s/it]"
     ]
    },
    {
     "name": "stdout",
     "output_type": "stream",
     "text": [
      "Currently scraping image urls for: Kamisama Kiss\n",
      "Currently downloading images for: Kamisama Kiss\n"
     ]
    },
    {
     "name": "stderr",
     "output_type": "stream",
     "text": [
      "AnimeList:  91%|█████████ | 30/33 [25:47<02:47, 55.94s/it]"
     ]
    },
    {
     "name": "stdout",
     "output_type": "stream",
     "text": [
      "Currently scraping image urls for: Big Windup!\n",
      "Currently downloading images for: Big Windup!\n"
     ]
    },
    {
     "name": "stderr",
     "output_type": "stream",
     "text": [
      "AnimeList:  94%|█████████▍| 31/33 [26:45<01:52, 56.47s/it]"
     ]
    },
    {
     "name": "stdout",
     "output_type": "stream",
     "text": [
      "Currently scraping image urls for: Sekaiichi Hatsukoi\n",
      "Currently downloading images for: Sekaiichi Hatsukoi\n"
     ]
    },
    {
     "name": "stderr",
     "output_type": "stream",
     "text": [
      "AnimeList:  97%|█████████▋| 32/33 [27:37<00:55, 55.29s/it]"
     ]
    },
    {
     "name": "stdout",
     "output_type": "stream",
     "text": [
      "Currently scraping image urls for: ReLIFE\n",
      "Currently downloading images for: ReLIFE\n"
     ]
    },
    {
     "name": "stderr",
     "output_type": "stream",
     "text": [
      "AnimeList: 100%|██████████| 33/33 [28:23<00:00, 51.61s/it]\n"
     ]
    }
   ],
   "source": [
    "scraper = scrapeAnimeImageURLs(anime_list[200:])"
   ]
  },
  {
   "attachments": {},
   "cell_type": "markdown",
   "metadata": {},
   "source": [
    "    There are two kinds of image URLs in the image URLs file:\n",
    "        - base64 encoded image URLs\n",
    "        - normal image URLs\n",
    "        "
   ]
  },
  {
   "attachments": {},
   "cell_type": "markdown",
   "metadata": {},
   "source": [
    "    Image classes:\n",
    "        rg_i Q4LuWd\n",
    "        GRN7Gc\n",
    "        ll3IMe.CBvy7c\n",
    "    Somehow we always have 0 LL images, but that's a worry for later....I'll keep it there just in case it works :D"
   ]
  },
  {
   "cell_type": "code",
   "execution_count": null,
   "metadata": {
    "vscode": {
     "languageId": "javascript"
    }
   },
   "outputs": [],
   "source": []
  }
 ],
 "metadata": {
  "kernelspec": {
   "display_name": "anime_scraper",
   "language": "python",
   "name": "python3"
  },
  "language_info": {
   "codemirror_mode": {
    "name": "ipython",
    "version": 3
   },
   "file_extension": ".py",
   "mimetype": "text/x-python",
   "name": "python",
   "nbconvert_exporter": "python",
   "pygments_lexer": "ipython3",
   "version": "3.9.16"
  },
  "orig_nbformat": 4
 },
 "nbformat": 4,
 "nbformat_minor": 2
}
