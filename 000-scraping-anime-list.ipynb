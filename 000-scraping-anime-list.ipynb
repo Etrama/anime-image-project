{
 "cells": [
  {
   "cell_type": "code",
   "execution_count": 1,
   "metadata": {},
   "outputs": [],
   "source": [
    "import numpy as np\n",
    "import pandas as pd\n",
    "import matplotlib.pyplot as plt\n",
    "import seaborn as sns\n",
    "sns.set_style(\"darkgrid\")\n",
    "from tqdm import tqdm\n",
    "from jikanpy import Jikan"
   ]
  },
  {
   "attachments": {},
   "cell_type": "markdown",
   "metadata": {},
   "source": [
    "    Based on our notes.md  \n",
    "    We want test all the anime ids from 1 to 50000  \n",
    "    Let's see which ids are valid ids  \n",
    "    and what anime names we end up with"
   ]
  },
  {
   "cell_type": "code",
   "execution_count": 2,
   "metadata": {},
   "outputs": [],
   "source": [
    "class ScrapeAnimeList:\n",
    "    def __init__(self, RANGE=range(1,50001)):\n",
    "        self.jikan_obj = Jikan()\n",
    "        self.all_ids = RANGE\n",
    "        self.invalid_ids = [] \n",
    "        self.valid_ids = []\n",
    "        self.valid_anime_names = []\n",
    "        self.rankings = []\n",
    "    \n",
    "    def scrape(self):\n",
    "        for id in tqdm(self.all_ids):\n",
    "            try:\n",
    "                anime = self.jikan_obj.anime(id)\n",
    "                self.valid_ids.append(id)\n",
    "                self.rankings.append(anime[\"data\"][\"rank\"])\n",
    "                if anime[\"data\"][\"title_english\"] != None:\n",
    "                    self.valid_anime_names.append(anime[\"data\"][\"title_english\"]) #only 400/3000 have english titles\n",
    "                else:\n",
    "                    self.valid_anime_names.append(anime[\"data\"][\"title\"]) #to get the rest of the titles, might be a little japanese though\n",
    "            except:\n",
    "                self.invalid_ids.append(id)\n",
    "        return self.valid_ids, self.invalid_ids, self.valid_anime_names\n",
    "\n",
    "    def save_df(self, csv_name):\n",
    "        # print(self.valid_ids, self.rankings, self.valid_anime_names)\n",
    "        df = pd.DataFrame(list(zip(self.valid_ids, self.rankings, self.valid_anime_names)), columns =['valid_id', 'rank', 'anime_name'])\n",
    "        df.to_csv(f\"./data/scraped_anime_list/{csv_name}\", index=False)"
   ]
  },
  {
   "cell_type": "code",
   "execution_count": 13,
   "metadata": {},
   "outputs": [
    {
     "name": "stderr",
     "output_type": "stream",
     "text": [
      "100%|██████████| 10000/10000 [1:39:42<00:00,  1.67it/s] \n"
     ]
    }
   ],
   "source": [
    "scraper = ScrapeAnimeList(RANGE=range(1,10001))\n",
    "valid_ids, invalid_ids, valid_anime_names = scraper.scrape()\n",
    "scraper.save_df(\"AnimeList_0-10k.csv\")"
   ]
  },
  {
   "cell_type": "code",
   "execution_count": 14,
   "metadata": {},
   "outputs": [
    {
     "name": "stderr",
     "output_type": "stream",
     "text": [
      "100%|██████████| 10000/10000 [3:47:04<00:00,  1.36s/it]  \n"
     ]
    }
   ],
   "source": [
    "scraper = ScrapeAnimeList(RANGE=range(10001,20001))\n",
    "valid_ids, invalid_ids, valid_anime_names = scraper.scrape()\n",
    "scraper.save_df(\"AnimeList_10-20k.csv\")"
   ]
  },
  {
   "cell_type": "code",
   "execution_count": 3,
   "metadata": {},
   "outputs": [
    {
     "name": "stderr",
     "output_type": "stream",
     "text": [
      "100%|██████████| 10000/10000 [10:45:48<00:00,  3.87s/it] \n"
     ]
    }
   ],
   "source": [
    "scraper = ScrapeAnimeList(RANGE=range(20001,30001))\n",
    "valid_ids, invalid_ids, valid_anime_names = scraper.scrape()\n",
    "scraper.save_df(\"AnimeList_20-30k.csv\")"
   ]
  },
  {
   "cell_type": "code",
   "execution_count": 4,
   "metadata": {},
   "outputs": [
    {
     "name": "stderr",
     "output_type": "stream",
     "text": [
      "100%|██████████| 10000/10000 [2:58:35<00:00,  1.07s/it]  \n"
     ]
    }
   ],
   "source": [
    "scraper = ScrapeAnimeList(RANGE=range(30001,40001))\n",
    "valid_ids, invalid_ids, valid_anime_names = scraper.scrape()\n",
    "scraper.save_df(\"AnimeList_30-40k.csv\")"
   ]
  },
  {
   "cell_type": "code",
   "execution_count": 5,
   "metadata": {},
   "outputs": [
    {
     "name": "stderr",
     "output_type": "stream",
     "text": [
      "100%|██████████| 10000/10000 [1:15:04<00:00,  2.22it/s] \n"
     ]
    }
   ],
   "source": [
    "scraper = ScrapeAnimeList(RANGE=range(40001,50001))\n",
    "valid_ids, invalid_ids, valid_anime_names = scraper.scrape()\n",
    "scraper.save_df(\"AnimeList_40-50k.csv\")"
   ]
  },
  {
   "cell_type": "code",
   "execution_count": 16,
   "metadata": {},
   "outputs": [],
   "source": [
    "anime_df1 = pd.read_csv(\"./data/scraped_anime_list/AnimeList_0-10k.csv\")\n",
    "anime_df2 = pd.read_csv(\"./data/scraped_anime_list/AnimeList_10-20k.csv\")\n",
    "anime_df3 = pd.read_csv(\"./data/scraped_anime_list/AnimeList_20-30k.csv\")\n",
    "anime_df4 = pd.read_csv(\"./data/scraped_anime_list/AnimeList_30-40k.csv\")\n",
    "anime_df5 = pd.read_csv(\"./data/scraped_anime_list/AnimeList_40-50k.csv\")\n",
    "anime_dfs = [anime_df1, anime_df2, anime_df3, anime_df4, anime_df5]\n",
    "anime_df = pd.concat(anime_dfs)\n",
    "anime_df.to_csv(\"./data/scraped_anime_list/AnimeList_0-50k.csv\", index=False)"
   ]
  },
  {
   "cell_type": "code",
   "execution_count": 19,
   "metadata": {},
   "outputs": [],
   "source": [
    "# df = pd.DataFrame(list(zip(valid_ids, valid_anime_names)), columns =['valid_id', 'anime_name'])\n",
    "# df.to_csv(\"./data/scraped_anime_list/AnimeList_3k.csv\", index=False)"
   ]
  },
  {
   "cell_type": "code",
   "execution_count": 56,
   "metadata": {},
   "outputs": [],
   "source": [
    "# class ScrapeAnimeListExtended:\n",
    "#     def __init__(self, ID_RANGE=50001):\n",
    "#         self.jikan_obj = Jikan()\n",
    "#         self.all_ids = range(1,ID_RANGE)\n",
    "#         # scraped attributes, there has to be a better way to do this, I should ask someone\n",
    "#         # I did this in build using Excel text-to-columns, but there has to be a more pythonic way\n",
    "#         self.mal_id = []\n",
    "#         self.url = []\n",
    "#         self.images = []\n",
    "#         self.trailer = []\n",
    "#         self.approved = []\n",
    "#         self.titles = []\n",
    "#         self.title = []\n",
    "#         self.title_english = []\n",
    "#         self.title_japanese = []\n",
    "#         self.title_synonyms = []\n",
    "#         self.type = []\n",
    "#         self.source = []\n",
    "#         self.episodes = []\n",
    "#         self.status = []\n",
    "#         self.airing = []\n",
    "#         self.aired = []\n",
    "#         self.duration = []\n",
    "#         self.rating = []\n",
    "#         self.score = []\n",
    "#         self.scored_by = []\n",
    "#         self.rank = []\n",
    "#         self.popularity = []\n",
    "#         self.members = []\n",
    "#         self.favorites = []\n",
    "#         self.synopsis = []\n",
    "#         self.background = []\n",
    "#         self.season = []\n",
    "#         self.year = []\n",
    "#         self.broadcast = []\n",
    "#         self.producers = []\n",
    "#         self.licensors = []\n",
    "#         self.studios = []\n",
    "#         self.genres = []\n",
    "#         self.explicit_genres = []\n",
    "#         self.themes = []\n",
    "#         self.demographics = []\n",
    "\n",
    "#     def scrape(self):\n",
    "#         for id in tqdm(self.all_ids):\n",
    "#             try:\n",
    "#                 anime = self.jikan_obj.anime(id)\n",
    "#                 self.mal_id.append(anime[\"data\"][\"mal_id\"])\n",
    "#                 self.url.append(anime[\"data\"][\"url\"])\n",
    "#                 self.images.append(anime[\"data\"][\"images\"])\n",
    "#                 self.trailer.append(anime[\"data\"][\"trailer\"])\n",
    "#                 self.approved.append(anime[\"data\"][\"approved\"])\n",
    "#                 self.titles.append(anime[\"data\"][\"titles\"])\n",
    "#                 self.title.append(anime[\"data\"][\"title\"])\n",
    "#                 # self.title_english.append(anime[\"data\"][\"title_english\"])\n",
    "#                 self.title_japanese.append(anime[\"data\"][\"title_japanese\"])\n",
    "#                 self.title_synonyms.append(anime[\"data\"][\"title_synonyms\"])\n",
    "#                 self.type.append(anime[\"data\"][\"type\"])\n",
    "#                 self.source.append(anime[\"data\"][\"source\"])\n",
    "#                 self.episodes.append(anime[\"data\"][\"episodes\"])\n",
    "#                 self.status.append(anime[\"data\"][\"status\"])\n",
    "#                 self.airing.append(anime[\"data\"][\"airing\"])\n",
    "#                 self.aired.append(anime[\"data\"][\"aired\"])\n",
    "#                 self.duration.append(anime[\"data\"][\"duration\"])\n",
    "#                 self.rating.append(anime[\"data\"][\"rating\"])\n",
    "#                 self.score.append(anime[\"data\"][\"score\"])\n",
    "#                 self.scored_by.append(anime[\"data\"][\"scored_by\"])\n",
    "#                 self.rank.append(anime[\"data\"][\"rank\"])\n",
    "#                 self.popularity.append(anime[\"data\"][\"popularity\"])\n",
    "#                 self.members.append(anime[\"data\"][\"members\"])\n",
    "#                 self.favorites.append(anime[\"data\"][\"favorites\"])\n",
    "#                 self.synopsis.append(anime[\"data\"][\"synopsis\"])\n",
    "#                 self.background.append(anime[\"data\"][\"background\"])\n",
    "#                 self.season.append(anime[\"data\"][\"season\"])\n",
    "#                 self.year.append(anime[\"data\"][\"year\"])\n",
    "#                 self.broadcast.append(anime[\"data\"][\"broadcast\"])\n",
    "#                 self.producers.append(anime[\"data\"][\"producers\"])\n",
    "#                 self.licensors.append(anime[\"data\"][\"licensors\"])\n",
    "#                 self.studios.append(anime[\"data\"][\"studios\"])\n",
    "#                 self.genres.append(anime[\"data\"][\"genres\"])\n",
    "#                 self.explicit_genres.append(anime[\"data\"][\"explicit_genres\"])\n",
    "#                 self.themes.append(anime[\"data\"][\"themes\"])\n",
    "#                 self.demographics.append(anime[\"data\"][\"demographics\"])\n",
    "#             except:\n",
    "#                 pass\n",
    "#         return self.mal_id, self.title\n",
    "\n",
    "#     def save_df(self, csv_name):\n",
    "#         df = pd.DataFrame(list(zip(self.mal_id,\tself.url,\tself.images,\tself.trailer,\tself.approved,\tself.titles,\\\n",
    "#                                 self.title,\tself.title_english,\tself.title_japanese,\tself.title_synonyms,\t\\\n",
    "#                                 self.type,\tself.source,\tself.episodes,\tself.status,\tself.airing,\t\\\n",
    "#                                 self.aired,\tself.duration,\tself.rating,\tself.score,\tself.scored_by,\tself.rank,\t\\\n",
    "#                                 self.popularity,\tself.members,\tself.favorites,\tself.synopsis,\tself.background, \\\n",
    "#                                 self.season,\tself.year,\tself.broadcast,\tself.producers,\tself.licensors,\tself.studios,\t\n",
    "#                                 self.genres,\tself.explicit_genres,\tself.themes,\tself.demographics,)),\n",
    "#                           columns =[\"mal_id\",\t\"url\",\t\"images\",\t\"trailer\",\t\"approved\",\t\"titles\",\t\\\n",
    "#                             \"title\",\t\"title_english\",\t\"title_japanese\",\t\"title_synonyms\",\t\\\n",
    "#                             \"type\",\t\"source\",\t\"episodes\",\t\"status\",\t\"airing\",\t\\\n",
    "#                             \"aired\",\t\"duration\",\t\"rating\",\t\"score\",\t\"scored_by\",\t\"rank\",\t\\\n",
    "#                             \"popularity\",\t\"members\",\t\"favorites\",\t\"synopsis\",\t\"background\",\t\\\n",
    "#                             \"season\",\t\"year\",\t\"broadcast\",\t\"producers\",\t\"licensors\",\t\"studios\",\t\\\n",
    "#                             \"genres\",\t\"explicit_genres\",\t\"themes\",\t\"demographics\",])\n",
    "#         df.to_csv(f\"./data/scraped_anime_list/{csv_name}\", index=False)"
   ]
  },
  {
   "cell_type": "code",
   "execution_count": null,
   "metadata": {},
   "outputs": [],
   "source": []
  }
 ],
 "metadata": {
  "kernelspec": {
   "display_name": "anime_scraper",
   "language": "python",
   "name": "python3"
  },
  "language_info": {
   "codemirror_mode": {
    "name": "ipython",
    "version": 3
   },
   "file_extension": ".py",
   "mimetype": "text/x-python",
   "name": "python",
   "nbconvert_exporter": "python",
   "pygments_lexer": "ipython3",
   "version": "3.9.16"
  },
  "orig_nbformat": 4
 },
 "nbformat": 4,
 "nbformat_minor": 2
}
